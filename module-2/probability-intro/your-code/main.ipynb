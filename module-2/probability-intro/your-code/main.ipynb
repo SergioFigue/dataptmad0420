{
 "cells": [
  {
   "cell_type": "markdown",
   "metadata": {},
   "source": [
    "# Introduction To Probability\n",
    "## Challenge 1\n",
    "\n",
    "A and B are events of a probability space with $(\\omega, \\sigma, P)$ such that $P(A) = 0.3$, $P(B) = 0.6$ and $P(A \\cap B) = 0.1$\n",
    "\n",
    "Which of the following statements are false?\n",
    "* $P(A \\cup B) = 0.6$\n",
    "* $P(A \\cap B^{C}) = 0.2$\n",
    "* $P(A \\cap (B \\cup B^{C})) = 0.4$\n",
    "* $P(A^{C} \\cap B^{C}) = 0.3$\n",
    "* $P((A \\cap B)^{C}) = 0.9$"
   ]
  },
  {
   "cell_type": "code",
   "execution_count": 9,
   "metadata": {},
   "outputs": [
    {
     "data": {
      "text/plain": [
       "'\\n𝑃(𝐴∪𝐵)=0.6 - False ==> 𝑃(𝐴∪𝐵) = P(A) + P(B) - 𝑃(𝐴∩𝐵) = 0.3 + 0.6 - 0.1 = 0.8\\n𝑃(𝐴∩𝐵𝐶)=0.2 - True ==> 0.3 - 0.1 = 0.2\\n𝑃(𝐴∩(𝐵∪𝐵𝐶))=0.4 - False ==> 𝑃(𝐴∩(𝐵∪𝐵𝐶)) = 𝑃(𝐴∩w) = P(A) = 0.3 \\n𝑃(𝐴𝐶∩𝐵𝐶)=0.3 - False ==> 𝑃(𝐴𝐶∩𝐵𝐶) = P(A∪B)C = 0.2\\n𝑃((𝐴∩𝐵)𝐶)=0.9 - True ==> 1 - 0.1 = 0.9\\n'"
      ]
     },
     "execution_count": 9,
     "metadata": {},
     "output_type": "execute_result"
    }
   ],
   "source": [
    "\"\"\"\n",
    "𝑃(𝐴∪𝐵)=0.6 - False ==> 𝑃(𝐴∪𝐵) = P(A) + P(B) - 𝑃(𝐴∩𝐵) = 0.3 + 0.6 - 0.1 = 0.8\n",
    "𝑃(𝐴∩𝐵𝐶)=0.2 - True ==> 0.3 - 0.1 = 0.2\n",
    "𝑃(𝐴∩(𝐵∪𝐵𝐶))=0.4 - False ==> 𝑃(𝐴∩(𝐵∪𝐵𝐶)) = 𝑃(𝐴∩w) = P(A) = 0.3 \n",
    "𝑃(𝐴𝐶∩𝐵𝐶)=0.3 - False ==> 𝑃(𝐴𝐶∩𝐵𝐶) = P(A∪B)C = 0.2\n",
    "𝑃((𝐴∩𝐵)𝐶)=0.9 - True ==> 1 - 0.1 = 0.9\n",
    "\"\"\""
   ]
  },
  {
   "cell_type": "markdown",
   "metadata": {},
   "source": [
    "## Challenge 2\n",
    "There is a box with 10 white balls, 12 red balls and 8 black balls. Calculate the probability of:\n",
    "* Taking a white ball out.\n",
    "* Taking a white ball out after taking a black ball out.\n",
    "* Taking a red ball out after taking a black and a red ball out.\n",
    "* Taking a red ball out after taking a black and a red ball out with reposition.\n",
    "\n",
    "**Hint**: Reposition means putting back the ball into the box after taking it out."
   ]
  },
  {
   "cell_type": "code",
   "execution_count": 10,
   "metadata": {},
   "outputs": [
    {
     "data": {
      "text/plain": [
       "\"\\nAs we know what color the former ball taken out is, we don't need Bayes Theory:\\nP(W) = 10/30 = 1/3\\nP(B,W) = 8/30 * 10/29 = 4/15 * 10/29 = 0.09195402298\\nP(R,B,R) = 12/30 * 8/29 * 11/28 = 4/10 * 8/29 * 11/28 = 0.04334975369\\nP*(R,B,R) = 12/30 * 8/30 * 12/30  = 4/10 * 4/15 * 4/10 = 0.04266666666\\n\""
      ]
     },
     "execution_count": 10,
     "metadata": {},
     "output_type": "execute_result"
    }
   ],
   "source": [
    "\"\"\"\n",
    "As we know what color the former ball taken out is, we don't need Bayes Theory:\n",
    "P(W) = 10/30 = 1/3\n",
    "P(B,W) = 8/30 * 10/29 = 4/15 * 10/29 = 0.09195402298\n",
    "P(R,B,R) = 12/30 * 8/29 * 11/28 = 4/10 * 8/29 * 11/28 = 0.04334975369\n",
    "P*(R,B,R) = 12/30 * 8/30 * 12/30  = 4/10 * 4/15 * 4/10 = 0.04266666666\n",
    "\"\"\""
   ]
  },
  {
   "cell_type": "markdown",
   "metadata": {},
   "source": [
    "## Challenge 3\n",
    "\n",
    "You are planning to go on a picnic today but the morning is cloudy. You hate rain so you don't know whether to go out or stay home! To help you make a decision, you gather the following data about rainy days:\n",
    "\n",
    "* 50% of all rainy days start off cloudy!\n",
    "* Cloudy mornings are common. About 40% of days start cloudy. \n",
    "* This month is usually dry so only 3 of 30 days (10%) tend to be rainy. \n",
    "\n",
    "What is the chance of rain during the day?"
   ]
  },
  {
   "cell_type": "code",
   "execution_count": 11,
   "metadata": {},
   "outputs": [
    {
     "data": {
      "text/plain": [
       "'\\nHipothesis (A) ==> Rainy day? = 10%\\nObserved Data (B) ==> Cloudy day = 40%\\nWhen is cloudy, rains ==> 50%\\n\\nP(A|B) = (P(A)*P(B|A))/P(B) = (0.1*0.5)/0.4 = 0.125 \\n\\nThe probability of rain during this cloudy day is 12.5%.\\n\\n'"
      ]
     },
     "execution_count": 11,
     "metadata": {},
     "output_type": "execute_result"
    }
   ],
   "source": [
    "\"\"\"\n",
    "Hipothesis (A) ==> Rainy day? = 10%\n",
    "Observed Data (B) ==> Cloudy day = 40%\n",
    "When is cloudy, rains ==> 50%\n",
    "\n",
    "P(A|B) = (P(A)*P(B|A))/P(B) = (0.1*0.5)/0.4 = 0.125 \n",
    "\n",
    "The probability of rain during this cloudy day is 12.5%.\n",
    "\n",
    "\"\"\""
   ]
  },
  {
   "cell_type": "markdown",
   "metadata": {},
   "source": [
    "## Challenge 4\n",
    "\n",
    "One thousand people were asked through a telephone survey whether they thought more street lighting is needed at night or not.\n",
    "\n",
    "Out of the 480 men that answered the survey, 324 said yes and 156 said no. On the other hand, out of the 520 women that answered, 351 said yes and 169 said no. \n",
    "\n",
    "We wonder if men and women have a different opinions about the street lighting matter. Is gender relevant or irrelevant to the question?\n",
    "\n",
    "Consider the following events:\n",
    "- The answer is yes, so the person that answered thinks that more street lighting is needed.\n",
    "- The person who answered is a man.\n",
    "\n",
    "We want to know if these events are independent, that is, if the fact of wanting more light depends on whether one is male or female. Are these events independent or not?\n",
    "\n",
    "**Hint**: To clearly compare the answers by gender, it is best to place the data in a table."
   ]
  },
  {
   "cell_type": "code",
   "execution_count": 12,
   "metadata": {},
   "outputs": [
    {
     "name": "stdout",
     "output_type": "stream",
     "text": [
      "Opinion pool about more street lightning needed by gender:\n"
     ]
    },
    {
     "data": {
      "text/html": [
       "<div>\n",
       "<style scoped>\n",
       "    .dataframe tbody tr th:only-of-type {\n",
       "        vertical-align: middle;\n",
       "    }\n",
       "\n",
       "    .dataframe tbody tr th {\n",
       "        vertical-align: top;\n",
       "    }\n",
       "\n",
       "    .dataframe thead th {\n",
       "        text-align: right;\n",
       "    }\n",
       "</style>\n",
       "<table border=\"1\" class=\"dataframe\">\n",
       "  <thead>\n",
       "    <tr style=\"text-align: right;\">\n",
       "      <th></th>\n",
       "      <th>Yes</th>\n",
       "      <th>No</th>\n",
       "      <th>Total</th>\n",
       "    </tr>\n",
       "  </thead>\n",
       "  <tbody>\n",
       "    <tr>\n",
       "      <th>Men</th>\n",
       "      <td>324</td>\n",
       "      <td>156</td>\n",
       "      <td>480</td>\n",
       "    </tr>\n",
       "    <tr>\n",
       "      <th>Women</th>\n",
       "      <td>351</td>\n",
       "      <td>169</td>\n",
       "      <td>520</td>\n",
       "    </tr>\n",
       "    <tr>\n",
       "      <th>Total</th>\n",
       "      <td>675</td>\n",
       "      <td>325</td>\n",
       "      <td>1000</td>\n",
       "    </tr>\n",
       "  </tbody>\n",
       "</table>\n",
       "</div>"
      ],
      "text/plain": [
       "       Yes   No  Total\n",
       "Men    324  156    480\n",
       "Women  351  169    520\n",
       "Total  675  325   1000"
      ]
     },
     "execution_count": 12,
     "metadata": {},
     "output_type": "execute_result"
    }
   ],
   "source": [
    "import pandas as pd\n",
    "print(f'Opinion pool about more street lightning needed by gender:')\n",
    "data = [[324, 156, 480], [351, 169, 520], [675, 325, 1000]]\n",
    "pd.DataFrame(data, columns=[\"Yes\", \"No\", \"Total\"], index=['Men', 'Women', 'Total'])"
   ]
  },
  {
   "cell_type": "code",
   "execution_count": 13,
   "metadata": {},
   "outputs": [
    {
     "data": {
      "text/plain": [
       "'\\nIs gender relevant?\\nP(Y|M) = P (Y|W) = 67,5% \\n\\nMen and women did answered exactly the same to the question about more street lighting needed.\\n'"
      ]
     },
     "execution_count": 13,
     "metadata": {},
     "output_type": "execute_result"
    }
   ],
   "source": [
    "\"\"\"\n",
    "Is gender relevant?\n",
    "P(Y|M) = P (Y|W) = 67,5% \n",
    "\n",
    "Men and women did answered exactly the same to the question about more street lighting needed.\n",
    "\"\"\""
   ]
  },
  {
   "cell_type": "code",
   "execution_count": 14,
   "metadata": {},
   "outputs": [
    {
     "data": {
      "text/plain": [
       "'\\nIndependent events?\\n\\nIf A and B ind. with P(A) > 0, then P(B|A) = P(B)\\n\\nP(B|A) = 324/480 = 67.5%\\nP(B) = 67.5%\\n\\nThe answer is yes, both events are independent.\\n\\n'"
      ]
     },
     "execution_count": 14,
     "metadata": {},
     "output_type": "execute_result"
    }
   ],
   "source": [
    "\"\"\"\n",
    "Independent events?\n",
    "\n",
    "If A and B ind. with P(A) > 0, then P(B|A) = P(B)\n",
    "\n",
    "P(B|A) = 324/480 = 67.5%\n",
    "P(B) = 67.5%\n",
    "\n",
    "The answer is yes, both events are independent.\n",
    "\n",
    "\"\"\""
   ]
  },
  {
   "cell_type": "code",
   "execution_count": null,
   "metadata": {},
   "outputs": [],
   "source": []
  }
 ],
 "metadata": {
  "kernelspec": {
   "display_name": "Python [conda env:lab_env]",
   "language": "python",
   "name": "conda-env-lab_env-py"
  },
  "language_info": {
   "codemirror_mode": {
    "name": "ipython",
    "version": 3
   },
   "file_extension": ".py",
   "mimetype": "text/x-python",
   "name": "python",
   "nbconvert_exporter": "python",
   "pygments_lexer": "ipython3",
   "version": "3.7.3"
  }
 },
 "nbformat": 4,
 "nbformat_minor": 2
}
