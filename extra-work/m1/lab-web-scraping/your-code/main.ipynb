{
 "cells": [
  {
   "cell_type": "markdown",
   "metadata": {},
   "source": [
    "# Web Scraping Lab\n",
    "\n",
    "You will find in this notebook some scrapy exercises to practise your scraping skills.\n",
    "\n",
    "**Tips:**\n",
    "\n",
    "- Check the response status code for each request to ensure you have obtained the intended content.\n",
    "- Print the response text in each request to understand the kind of info you are getting and its format.\n",
    "- Check for patterns in the response text to extract the data/info requested in each question.\n",
    "- Visit the urls below and take a look at their source code through Chrome DevTools. You'll need to identify the html tags, special class names, etc used in the html content you are expected to extract.\n",
    "\n",
    "**Resources**:\n",
    "- [Requests library](http://docs.python-requests.org/en/master/#the-user-guide)\n",
    "- [Beautiful Soup Doc](https://www.crummy.com/software/BeautifulSoup/bs4/doc/)\n",
    "- [Urllib](https://docs.python.org/3/library/urllib.html#module-urllib)\n",
    "- [re lib](https://docs.python.org/3/library/re.html)\n",
    "- [lxml lib](https://lxml.de/)\n",
    "- [Scrapy](https://scrapy.org/)\n",
    "- [List of HTTP status codes](https://en.wikipedia.org/wiki/List_of_HTTP_status_codes)\n",
    "- [HTML basics](http://www.simplehtmlguide.com/cheatsheet.php)\n",
    "- [CSS basics](https://www.cssbasics.com/#page_start)"
   ]
  },
  {
   "cell_type": "markdown",
   "metadata": {},
   "source": [
    "#### Below are the libraries and modules you may need. `requests`,  `BeautifulSoup` and `pandas` are already imported for you. If you prefer to use additional libraries feel free to do it."
   ]
  },
  {
   "cell_type": "code",
   "execution_count": 1,
   "metadata": {},
   "outputs": [],
   "source": [
    "import requests\n",
    "from bs4 import BeautifulSoup\n",
    "import pandas as pd"
   ]
  },
  {
   "cell_type": "markdown",
   "metadata": {},
   "source": [
    "#### Download, parse (using BeautifulSoup), and print the content from the Trending Developers page from GitHub:"
   ]
  },
  {
   "cell_type": "code",
   "execution_count": 2,
   "metadata": {},
   "outputs": [],
   "source": [
    "# This is the url you will scrape in this exercise\n",
    "url = 'https://github.com/trending/developers'"
   ]
  },
  {
   "cell_type": "code",
   "execution_count": 3,
   "metadata": {},
   "outputs": [
    {
     "data": {
      "text/plain": [
       "b'\\n\\n\\n\\n\\n<!DOCTYPE html>\\n<html lang=\"en\">\\n  <head>\\n    <meta charset=\"utf-8\">\\n  <link rel=\"dns-prefetch\" href=\"https://github.githubassets.com\">\\n  <link rel=\"dns-prefetch\" href=\"https://avatars0.githubuse'"
      ]
     },
     "execution_count": 3,
     "metadata": {},
     "output_type": "execute_result"
    }
   ],
   "source": [
    "html = requests.get(url).content\n",
    "html[0:200]"
   ]
  },
  {
   "cell_type": "markdown",
   "metadata": {},
   "source": [
    "#### Display the names of the trending developers retrieved in the previous step.\n",
    "\n",
    "Your output should be a Python list of developer names. Each name should not contain any html tag.\n",
    "\n",
    "**Instructions:**\n",
    "\n",
    "1. Find out the html tag and class names used for the developer names. You can achieve this using Chrome DevTools.\n",
    "\n",
    "1. Use BeautifulSoup to extract all the html elements that contain the developer names.\n",
    "\n",
    "1. Use string manipulation techniques to replace whitespaces and linebreaks (i.e. `\\n`) in the *text* of each html element. Use a list to store the clean names.\n",
    "\n",
    "1. Print the list of names.\n",
    "\n",
    "Your output should look like below:\n",
    "\n",
    "```\n",
    "['trimstray (@trimstray)',\n",
    " 'joewalnes (JoeWalnes)',\n",
    " 'charlax (Charles-AxelDein)',\n",
    " 'ForrestKnight (ForrestKnight)',\n",
    " 'revery-ui (revery-ui)',\n",
    " 'alibaba (Alibaba)',\n",
    " 'Microsoft (Microsoft)',\n",
    " 'github (GitHub)',\n",
    " 'facebook (Facebook)',\n",
    " 'boazsegev (Bo)',\n",
    " 'google (Google)',\n",
    " 'cloudfetch',\n",
    " 'sindresorhus (SindreSorhus)',\n",
    " 'tensorflow',\n",
    " 'apache (TheApacheSoftwareFoundation)',\n",
    " 'DevonCrawford (DevonCrawford)',\n",
    " 'ARMmbed (ArmMbed)',\n",
    " 'vuejs (vuejs)',\n",
    " 'fastai (fast.ai)',\n",
    " 'QiShaoXuan (Qi)',\n",
    " 'joelparkerhenderson (JoelParkerHenderson)',\n",
    " 'torvalds (LinusTorvalds)',\n",
    " 'CyC2018',\n",
    " 'komeiji-satori (神楽坂覚々)',\n",
    " 'script-8']\n",
    " ```"
   ]
  },
  {
   "cell_type": "code",
   "execution_count": 4,
   "metadata": {},
   "outputs": [
    {
     "data": {
      "text/plain": [
       "['Ryan Levick',\n",
       " 'Arvid Norberg',\n",
       " 'Kent C. Dodds',\n",
       " 'Geoff Bourne',\n",
       " 'Brian Flad',\n",
       " 'Patrick Hulce',\n",
       " 'Max Howell',\n",
       " 'Fabien Potencier',\n",
       " 'Avery Harnish',\n",
       " 'Michael Mok',\n",
       " 'Guido van Rossum',\n",
       " 'Matthew Johnson',\n",
       " 'Javier Suárez',\n",
       " 'Seth Vargo',\n",
       " 'Geoff Boeing',\n",
       " 'Ryan Bates',\n",
       " 'Steve Sanderson',\n",
       " 'Abraham Williams',\n",
       " 'Michael Klishin',\n",
       " 'Samuel Attard',\n",
       " 'Alan Shreve',\n",
       " 'Dessalines',\n",
       " 'Jan-Erik Rediger',\n",
       " 'Mathias Buus',\n",
       " 'Martin Polden']"
      ]
     },
     "execution_count": 4,
     "metadata": {},
     "output_type": "execute_result"
    }
   ],
   "source": [
    "#class=h3 lh-condensed\n",
    "\n",
    "soup = BeautifulSoup(html, 'lxml')\n",
    "table = soup.find_all('h1', class_='h3 lh-condensed')\n",
    "\n",
    "names = [i.text.strip() for i in table]\n",
    "\n",
    "names "
   ]
  },
  {
   "cell_type": "markdown",
   "metadata": {},
   "source": [
    "#### Display the trending Python repositories in GitHub.\n",
    "\n",
    "The steps to solve this problem is similar to the previous one except that you need to find out the repository names instead of developer names."
   ]
  },
  {
   "cell_type": "code",
   "execution_count": 5,
   "metadata": {},
   "outputs": [],
   "source": [
    "# This is the url you will scrape in this exercise\n",
    "url = 'https://github.com/trending/python?since=daily'"
   ]
  },
  {
   "cell_type": "code",
   "execution_count": 6,
   "metadata": {},
   "outputs": [
    {
     "data": {
      "text/plain": [
       "b'\\n\\n\\n\\n\\n<!DOCTYPE html>\\n<html lang=\"en\">\\n  <head>\\n    <meta charset=\"utf-8\">\\n  <link rel=\"dns-prefetch\"'"
      ]
     },
     "execution_count": 6,
     "metadata": {},
     "output_type": "execute_result"
    }
   ],
   "source": [
    "html = requests.get(url).content\n",
    "html[0:100]"
   ]
  },
  {
   "cell_type": "code",
   "execution_count": 7,
   "metadata": {},
   "outputs": [
    {
     "name": "stdout",
     "output_type": "stream",
     "text": [
      "['formatc1702', 'RasaHQ', 'donnemartin', 'podgorskiy', 'foxlet', 'microsoft', 'google', 'vsitzmann', 'Azure', 'youyanggu', 'explosion', 'gvanrossum', 'devanshbatham', 'vt-vl-lab', 'fairlearn', 'flairNLP', 'microsoft', 'owid', 'apache', 'chubin', 'Dod-o', 'cupy', 'frappe', 'The-Art-of-Hacking', 'Project-MONAI']\n"
     ]
    }
   ],
   "source": [
    "soup = BeautifulSoup(html, 'lxml')\n",
    "table = soup.find_all('h1', class_='h3 lh-condensed')\n",
    "#table = soup.find_all(['h1'], {'class': ['h3 lh-condensed']})\n",
    "\n",
    "repos = [h1.a.span.get_text().strip().rstrip(' /') for h1 in table]\n",
    "print(repos)\n",
    "\n",
    "#links = table2.find_all('a', href=True) \n",
    "#links_parsed = [link for link in links]\n",
    "#for a in table.find('a', href=True):\n",
    "#    print(\"Found the URL:\", a['href'])\n",
    "\n",
    "#########\n",
    "#all_links = soup.find_all('a', href=True)\n",
    "\n",
    "#repolinks = []\n",
    "\n",
    "#for link in repolinks:\n",
    "#    href = link['href']\n",
    "#    repolinks.append(href)\n",
    "\n"
   ]
  },
  {
   "cell_type": "code",
   "execution_count": 8,
   "metadata": {},
   "outputs": [],
   "source": [
    "# This is the url you will scrape in this exercise\n",
    "url = 'https://en.wikipedia.org/wiki/Walt_Disney'"
   ]
  },
  {
   "cell_type": "code",
   "execution_count": 9,
   "metadata": {},
   "outputs": [
    {
     "name": "stdout",
     "output_type": "stream",
     "text": [
      "//upload.wikimedia.org/wikipedia/commons/thumb/d/df/Walt_Disney_1946.JPG/220px-Walt_Disney_1946.JPG\n",
      "//upload.wikimedia.org/wikipedia/commons/thumb/d/df/Walt_Disney_1946.JPG/330px-Walt_Disney_1946.JPG 1.5x, //upload.wikimedia.org/wikipedia/commons/thumb/d/df/Walt_Disney_1946.JPG/440px-Walt_Disney_1946.JPG 2x\n"
     ]
    }
   ],
   "source": [
    "html = requests.get(url).content\n",
    "\n",
    "soup = BeautifulSoup(html, 'lxml')\n",
    "image = soup.find('a', class_='image')\n",
    "\n",
    "for i in image.find_all('img', src=True):\n",
    "    print(i['src'])\n",
    "    \n",
    "for i in image.find_all('img', srcset=True):\n",
    "    print(i['srcset'])\n",
    "\n"
   ]
  },
  {
   "cell_type": "markdown",
   "metadata": {},
   "source": [
    "#### Retrieve an arbitary Wikipedia page of \"Python\" and create a list of links on that page."
   ]
  },
  {
   "cell_type": "code",
   "execution_count": 10,
   "metadata": {},
   "outputs": [],
   "source": [
    "# This is the url you will scrape in this exercise\n",
    "url ='https://en.wikipedia.org/wiki/Python' "
   ]
  },
  {
   "cell_type": "code",
   "execution_count": 11,
   "metadata": {},
   "outputs": [
    {
     "data": {
      "text/plain": [
       "['#mw-head',\n",
       " '#p-search',\n",
       " 'https://en.wiktionary.org/wiki/Python',\n",
       " 'https://en.wiktionary.org/wiki/python',\n",
       " '#Snakes',\n",
       " '#Ancient_Greece',\n",
       " '#Media_and_entertainment',\n",
       " '#Computing',\n",
       " '#Engineering',\n",
       " '#Roller_coasters']"
      ]
     },
     "execution_count": 11,
     "metadata": {},
     "output_type": "execute_result"
    }
   ],
   "source": [
    "html = requests.get(url).content\n",
    "soup = BeautifulSoup(html, 'lxml')\n",
    "\n",
    "pythonlist = []\n",
    "\n",
    "for link in soup.find_all('a'):\n",
    "    if link.get('href') is not None:\n",
    "        pythonlist.append(link.get('href'))\n",
    "pythonlist[0:10]"
   ]
  },
  {
   "cell_type": "markdown",
   "metadata": {},
   "source": [
    "#### Find the number of titles that have changed in the United States Code since its last release point."
   ]
  },
  {
   "cell_type": "code",
   "execution_count": 12,
   "metadata": {},
   "outputs": [],
   "source": [
    "# This is the url you will scrape in this exercise\n",
    "url = 'http://uscode.house.gov/download/download.shtml'"
   ]
  },
  {
   "cell_type": "code",
   "execution_count": 13,
   "metadata": {},
   "outputs": [
    {
     "name": "stdout",
     "output_type": "stream",
     "text": [
      "7\n"
     ]
    }
   ],
   "source": [
    "html = requests.get(url).content\n",
    "soup = BeautifulSoup(html, 'lxml')\n",
    "\n",
    "changed_titles = soup.find_all('div', class_='usctitlechanged')\n",
    "\n",
    "numbers = [title.get_text() for title in changed_titles]\n",
    "\n",
    "print(len(numbers))\n",
    "\n"
   ]
  },
  {
   "cell_type": "markdown",
   "metadata": {},
   "source": [
    "#### Find a Python list with the top ten FBI's Most Wanted names."
   ]
  },
  {
   "cell_type": "code",
   "execution_count": 14,
   "metadata": {},
   "outputs": [],
   "source": [
    "# This is the url you will scrape in this exercise\n",
    "url = 'https://www.fbi.gov/wanted/topten'"
   ]
  },
  {
   "cell_type": "code",
   "execution_count": 28,
   "metadata": {},
   "outputs": [
    {
     "data": {
      "text/plain": [
       "['JASON DEREK BROWN',\n",
       " 'YASER ABDEL SAID',\n",
       " 'ALEXIS FLORES',\n",
       " 'EUGENE PALMER',\n",
       " 'SANTIAGO VILLALBA MEDEROS',\n",
       " 'RAFAEL CARO-QUINTERO',\n",
       " 'ROBERT WILLIAM FISHER',\n",
       " 'BHADRESHKUMAR CHETANBHAI PATEL',\n",
       " 'ALEJANDRO ROSALES CASTILLO',\n",
       " 'ARNOLDO JIMENEZ']"
      ]
     },
     "execution_count": 28,
     "metadata": {},
     "output_type": "execute_result"
    }
   ],
   "source": [
    "html = requests.get(url).content\n",
    "soup = BeautifulSoup(html, 'lxml')\n",
    "\n",
    "most_wanted = soup.find_all('h3', class_='title')\n",
    "\n",
    "mw_names = [name.a.text for name in most_wanted]\n",
    "mw_names\n",
    "\n"
   ]
  },
  {
   "cell_type": "markdown",
   "metadata": {},
   "source": [
    "####  Display the 20 latest earthquakes info (date, time, latitude, longitude and region name) by the EMSC as a pandas dataframe."
   ]
  },
  {
   "cell_type": "code",
   "execution_count": 50,
   "metadata": {},
   "outputs": [],
   "source": [
    "# This is the url you will scrape in this exercise\n",
    "url = 'https://www.emsc-csem.org/Earthquake/'"
   ]
  },
  {
   "cell_type": "code",
   "execution_count": 63,
   "metadata": {},
   "outputs": [
    {
     "data": {
      "text/plain": [
       "[['earthquake2020-06-26\\xa0\\xa0\\xa017:56:19.026min ago',\n",
       "  '36.44\\xa0',\n",
       "  'N\\xa0\\xa0',\n",
       "  '117.97\\xa0',\n",
       "  'W\\xa0\\xa0',\n",
       "  '2.3',\n",
       "  '\\xa0CENTRAL CALIFORNIA'],\n",
       " ['earthquake2020-06-26\\xa0\\xa0\\xa017:54:42.127min ago',\n",
       "  '37.41\\xa0',\n",
       "  'N\\xa0\\xa0',\n",
       "  '31.47\\xa0',\n",
       "  'E\\xa0\\xa0',\n",
       "  '2.5',\n",
       "  '\\xa0WESTERN TURKEY'],\n",
       " ['earthquake2020-06-26\\xa0\\xa0\\xa017:42:25.639min ago',\n",
       "  '37.46\\xa0',\n",
       "  'N\\xa0\\xa0',\n",
       "  '118.81\\xa0',\n",
       "  'W\\xa0\\xa0',\n",
       "  '2.2',\n",
       "  '\\xa0CENTRAL CALIFORNIA'],\n",
       " ['earthquake2020-06-26\\xa0\\xa0\\xa017:27:33.654min ago',\n",
       "  '36.57\\xa0',\n",
       "  'S\\xa0\\xa0',\n",
       "  '178.99\\xa0',\n",
       "  'E\\xa0\\xa0',\n",
       "  '4.1',\n",
       "  '\\xa0OFF E. COAST OF N. ISLAND, N.Z.'],\n",
       " ['earthquake2020-06-26\\xa0\\xa0\\xa017:23:13.059min ago',\n",
       "  '36.59\\xa0',\n",
       "  'N\\xa0\\xa0',\n",
       "  '117.65\\xa0',\n",
       "  'W\\xa0\\xa0',\n",
       "  '2.3',\n",
       "  '\\xa0CENTRAL CALIFORNIA'],\n",
       " ['earthquake2020-06-26\\xa0\\xa0\\xa017:14:13.91hr 08min ago',\n",
       "  '36.43\\xa0',\n",
       "  'N\\xa0\\xa0',\n",
       "  '117.96\\xa0',\n",
       "  'W\\xa0\\xa0',\n",
       "  '2.8',\n",
       "  '\\xa0CENTRAL CALIFORNIA'],\n",
       " ['earthquake2020-06-26\\xa0\\xa0\\xa016:57:14.01hr 25min ago',\n",
       "  '15.34\\xa0',\n",
       "  'N\\xa0\\xa0',\n",
       "  '96.46\\xa0',\n",
       "  'W\\xa0\\xa0',\n",
       "  '4.2',\n",
       "  '\\xa0OFFSHORE OAXACA, MEXICO'],\n",
       " ['earthquake2020-06-26\\xa0\\xa0\\xa016:57:05.31hr 25min ago',\n",
       "  '36.44\\xa0',\n",
       "  'N\\xa0\\xa0',\n",
       "  '117.98\\xa0',\n",
       "  'W\\xa0\\xa0',\n",
       "  '3.1',\n",
       "  '\\xa0CENTRAL CALIFORNIA'],\n",
       " ['earthquake2020-06-26\\xa0\\xa0\\xa016:56:12.51hr 26min ago',\n",
       "  '45.55\\xa0',\n",
       "  'N\\xa0\\xa0',\n",
       "  '18.09\\xa0',\n",
       "  'E\\xa0\\xa0',\n",
       "  '3.0',\n",
       "  '\\xa0CROATIA'],\n",
       " ['earthquake2020-06-26\\xa0\\xa0\\xa016:51:30.01hr 30min ago',\n",
       "  '10.75\\xa0',\n",
       "  'N\\xa0\\xa0',\n",
       "  '84.95\\xa0',\n",
       "  'W\\xa0\\xa0',\n",
       "  '3.8',\n",
       "  '\\xa0COSTA RICA'],\n",
       " ['earthquake2020-06-26\\xa0\\xa0\\xa016:51:21.81hr 30min ago',\n",
       "  '28.24\\xa0',\n",
       "  'N\\xa0\\xa0',\n",
       "  '16.24\\xa0',\n",
       "  'W\\xa0\\xa0',\n",
       "  '2.0',\n",
       "  '\\xa0CANARY ISLANDS, SPAIN REGION'],\n",
       " ['earthquake2020-06-26\\xa0\\xa0\\xa016:49:00.01hr 33min ago',\n",
       "  '23.79\\xa0',\n",
       "  'S\\xa0\\xa0',\n",
       "  '70.17\\xa0',\n",
       "  'W\\xa0\\xa0',\n",
       "  '4.0',\n",
       "  '\\xa0ANTOFAGASTA, CHILE'],\n",
       " ['earthquake2020-06-26\\xa0\\xa0\\xa016:43:17.01hr 39min ago',\n",
       "  '20.19\\xa0',\n",
       "  'S\\xa0\\xa0',\n",
       "  '69.98\\xa0',\n",
       "  'W\\xa0\\xa0',\n",
       "  '2.6',\n",
       "  '\\xa0TARAPACA, CHILE'],\n",
       " ['earthquake2020-06-26\\xa0\\xa0\\xa016:27:30.81hr 54min ago',\n",
       "  '36.44\\xa0',\n",
       "  'N\\xa0\\xa0',\n",
       "  '117.97\\xa0',\n",
       "  'W\\xa0\\xa0',\n",
       "  '2.4',\n",
       "  '\\xa0CENTRAL CALIFORNIA'],\n",
       " ['earthquake2020-06-26\\xa0\\xa0\\xa016:22:57.01hr 59min ago',\n",
       "  '23.75\\xa0',\n",
       "  'S\\xa0\\xa0',\n",
       "  '67.16\\xa0',\n",
       "  'W\\xa0\\xa0',\n",
       "  '3.5',\n",
       "  '\\xa0JUJUY, ARGENTINA'],\n",
       " ['earthquake2020-06-26\\xa0\\xa0\\xa016:21:06.32hr 01min ago',\n",
       "  '17.95\\xa0',\n",
       "  'N\\xa0\\xa0',\n",
       "  '66.96\\xa0',\n",
       "  'W\\xa0\\xa0',\n",
       "  '2.9',\n",
       "  '\\xa0PUERTO RICO'],\n",
       " ['earthquake2020-06-26\\xa0\\xa0\\xa016:18:32.12hr 03min ago',\n",
       "  '39.05\\xa0',\n",
       "  'N\\xa0\\xa0',\n",
       "  '25.89\\xa0',\n",
       "  'E\\xa0\\xa0',\n",
       "  '2.7',\n",
       "  '\\xa0AEGEAN SEA'],\n",
       " ['earthquake2020-06-26\\xa0\\xa0\\xa016:14:42.72hr 07min ago',\n",
       "  '33.55\\xa0',\n",
       "  'N\\xa0\\xa0',\n",
       "  '115.89\\xa0',\n",
       "  'W\\xa0\\xa0',\n",
       "  '2.0',\n",
       "  '\\xa0SOUTHERN CALIFORNIA'],\n",
       " ['earthquake2020-06-26\\xa0\\xa0\\xa016:11:35.22hr 10min ago',\n",
       "  '35.56\\xa0',\n",
       "  'N\\xa0\\xa0',\n",
       "  '26.68\\xa0',\n",
       "  'E\\xa0\\xa0',\n",
       "  '2.6',\n",
       "  '\\xa0CRETE, GREECE'],\n",
       " ['earthquake2020-06-26\\xa0\\xa0\\xa016:05:44.72hr 16min ago',\n",
       "  '20.84\\xa0',\n",
       "  'N\\xa0\\xa0',\n",
       "  '94.23\\xa0',\n",
       "  'E\\xa0\\xa0',\n",
       "  '4.6',\n",
       "  '\\xa0MYANMAR'],\n",
       " ['earthquake2020-06-26\\xa0\\xa0\\xa016:05:02.12hr 17min ago',\n",
       "  '36.56\\xa0',\n",
       "  'N\\xa0\\xa0',\n",
       "  '114.57\\xa0',\n",
       "  'W\\xa0\\xa0',\n",
       "  '2.1',\n",
       "  '\\xa0NEVADA'],\n",
       " ['earthquake2020-06-26\\xa0\\xa0\\xa015:57:01.02hr 25min ago',\n",
       "  '36.48\\xa0',\n",
       "  'N\\xa0\\xa0',\n",
       "  '117.98\\xa0',\n",
       "  'W\\xa0\\xa0',\n",
       "  '2.0',\n",
       "  '\\xa0CENTRAL CALIFORNIA'],\n",
       " ['earthquake2020-06-26\\xa0\\xa0\\xa015:52:04.92hr 30min ago',\n",
       "  '35.52\\xa0',\n",
       "  'N\\xa0\\xa0',\n",
       "  '26.65\\xa0',\n",
       "  'E\\xa0\\xa0',\n",
       "  '2.7',\n",
       "  '\\xa0CRETE, GREECE'],\n",
       " ['earthquake2020-06-26\\xa0\\xa0\\xa015:50:08.62hr 32min ago',\n",
       "  '38.83\\xa0',\n",
       "  'N\\xa0\\xa0',\n",
       "  '12.64\\xa0',\n",
       "  'E\\xa0\\xa0',\n",
       "  '2.7',\n",
       "  '\\xa0SICILY, ITALY'],\n",
       " ['earthquake2020-06-26\\xa0\\xa0\\xa015:48:14.02hr 34min ago',\n",
       "  '39.23\\xa0',\n",
       "  'S\\xa0\\xa0',\n",
       "  '74.74\\xa0',\n",
       "  'W\\xa0\\xa0',\n",
       "  '3.3',\n",
       "  '\\xa0OFF COAST OF LOS LAGOS, CHILE'],\n",
       " ['earthquake2020-06-26\\xa0\\xa0\\xa015:41:55.02hr 40min ago',\n",
       "  '23.50\\xa0',\n",
       "  'S\\xa0\\xa0',\n",
       "  '69.34\\xa0',\n",
       "  'W\\xa0\\xa0',\n",
       "  '2.8',\n",
       "  '\\xa0ANTOFAGASTA, CHILE'],\n",
       " ['earthquake2020-06-26\\xa0\\xa0\\xa015:30:59.02hr 51min ago',\n",
       "  '51.37\\xa0',\n",
       "  'N\\xa0\\xa0',\n",
       "  '16.13\\xa0',\n",
       "  'E\\xa0\\xa0',\n",
       "  '2.9',\n",
       "  '\\xa0POLAND'],\n",
       " ['earthquake2020-06-26\\xa0\\xa0\\xa015:24:35.52hr 57min ago',\n",
       "  '36.43\\xa0',\n",
       "  'N\\xa0\\xa0',\n",
       "  '117.97\\xa0',\n",
       "  'W\\xa0\\xa0',\n",
       "  '2.3',\n",
       "  '\\xa0CENTRAL CALIFORNIA'],\n",
       " ['earthquake2020-06-26\\xa0\\xa0\\xa015:16:26.33hr 05min ago',\n",
       "  '17.95\\xa0',\n",
       "  'N\\xa0\\xa0',\n",
       "  '66.84\\xa0',\n",
       "  'W\\xa0\\xa0',\n",
       "  '2.7',\n",
       "  '\\xa0PUERTO RICO REGION'],\n",
       " ['earthquake2020-06-26\\xa0\\xa0\\xa015:15:08.03hr 07min ago',\n",
       "  '27.97\\xa0',\n",
       "  'S\\xa0\\xa0',\n",
       "  '70.89\\xa0',\n",
       "  'W\\xa0\\xa0',\n",
       "  '3.1',\n",
       "  '\\xa0ATACAMA, CHILE'],\n",
       " ['earthquake2020-06-26\\xa0\\xa0\\xa015:14:58.03hr 07min ago',\n",
       "  '35.53\\xa0',\n",
       "  'N\\xa0\\xa0',\n",
       "  '26.73\\xa0',\n",
       "  'E\\xa0\\xa0',\n",
       "  '3.7',\n",
       "  '\\xa0CRETE, GREECE'],\n",
       " ['earthquake2020-06-26\\xa0\\xa0\\xa015:10:05.63hr 12min ago',\n",
       "  '35.52\\xa0',\n",
       "  'N\\xa0\\xa0',\n",
       "  '26.71\\xa0',\n",
       "  'E\\xa0\\xa0',\n",
       "  '3.1',\n",
       "  '\\xa0CRETE, GREECE'],\n",
       " ['earthquake2020-06-26\\xa0\\xa0\\xa014:59:01.53hr 23min ago',\n",
       "  '38.51\\xa0',\n",
       "  'N\\xa0\\xa0',\n",
       "  '43.95\\xa0',\n",
       "  'E\\xa0\\xa0',\n",
       "  '2.6',\n",
       "  '\\xa0EASTERN TURKEY'],\n",
       " ['earthquake2020-06-26\\xa0\\xa0\\xa014:55:30.03hr 26min ago',\n",
       "  '8.07\\xa0',\n",
       "  'N\\xa0\\xa0',\n",
       "  '82.86\\xa0',\n",
       "  'W\\xa0\\xa0',\n",
       "  '3.6',\n",
       "  '\\xa0PANAMA-COSTA RICA BORDER REGION'],\n",
       " ['earthquake2020-06-26\\xa0\\xa0\\xa014:49:46.53hr 32min ago',\n",
       "  '17.90\\xa0',\n",
       "  'N\\xa0\\xa0',\n",
       "  '66.76\\xa0',\n",
       "  'W\\xa0\\xa0',\n",
       "  '2.5',\n",
       "  '\\xa0PUERTO RICO REGION'],\n",
       " ['earthquake2020-06-26\\xa0\\xa0\\xa014:46:39.93hr 35min ago',\n",
       "  '38.79\\xa0',\n",
       "  'N\\xa0\\xa0',\n",
       "  '27.78\\xa0',\n",
       "  'E\\xa0\\xa0',\n",
       "  '2.6',\n",
       "  '\\xa0WESTERN TURKEY'],\n",
       " ['earthquake2020-06-26\\xa0\\xa0\\xa014:45:06.73hr 37min ago',\n",
       "  '36.01\\xa0',\n",
       "  'N\\xa0\\xa0',\n",
       "  '75.03\\xa0',\n",
       "  'E\\xa0\\xa0',\n",
       "  '4.5',\n",
       "  '\\xa0KASHMIR-XINJIANG BORDER REGION'],\n",
       " ['earthquake2020-06-26\\xa0\\xa0\\xa014:42:22.93hr 39min ago',\n",
       "  '38.60\\xa0',\n",
       "  'N\\xa0\\xa0',\n",
       "  '44.06\\xa0',\n",
       "  'E\\xa0\\xa0',\n",
       "  '2.1',\n",
       "  '\\xa0TURKEY-IRAN BORDER REGION'],\n",
       " ['earthquake2020-06-26\\xa0\\xa0\\xa014:22:54.33hr 59min ago',\n",
       "  '39.87\\xa0',\n",
       "  'N\\xa0\\xa0',\n",
       "  '33.03\\xa0',\n",
       "  'E\\xa0\\xa0',\n",
       "  '2.0',\n",
       "  '\\xa0CENTRAL TURKEY'],\n",
       " ['earthquake2020-06-26\\xa0\\xa0\\xa014:20:25.44hr 01min ago',\n",
       "  '44.29\\xa0',\n",
       "  'N\\xa0\\xa0',\n",
       "  '115.18\\xa0',\n",
       "  'W\\xa0\\xa0',\n",
       "  '3.1',\n",
       "  '\\xa0SOUTHERN IDAHO'],\n",
       " ['earthquake2020-06-26\\xa0\\xa0\\xa014:15:10.84hr 07min ago',\n",
       "  '36.45\\xa0',\n",
       "  'N\\xa0\\xa0',\n",
       "  '117.98\\xa0',\n",
       "  'W\\xa0\\xa0',\n",
       "  '2.0',\n",
       "  '\\xa0CENTRAL CALIFORNIA'],\n",
       " ['earthquake2020-06-26\\xa0\\xa0\\xa014:12:57.74hr 09min ago',\n",
       "  '39.52\\xa0',\n",
       "  'N\\xa0\\xa0',\n",
       "  '118.56\\xa0',\n",
       "  'W\\xa0\\xa0',\n",
       "  '2.8',\n",
       "  '\\xa0NEVADA'],\n",
       " ['earthquake2020-06-26\\xa0\\xa0\\xa014:11:18.14hr 11min ago',\n",
       "  '38.79\\xa0',\n",
       "  'N\\xa0\\xa0',\n",
       "  '27.75\\xa0',\n",
       "  'E\\xa0\\xa0',\n",
       "  '3.6',\n",
       "  '\\xa0WESTERN TURKEY'],\n",
       " ['earthquake2020-06-26\\xa0\\xa0\\xa014:08:23.54hr 13min ago',\n",
       "  '36.21\\xa0',\n",
       "  'N\\xa0\\xa0',\n",
       "  '98.64\\xa0',\n",
       "  'W\\xa0\\xa0',\n",
       "  '2.1',\n",
       "  '\\xa0OKLAHOMA'],\n",
       " ['earthquake2020-06-26\\xa0\\xa0\\xa014:03:44.14hr 18min ago',\n",
       "  '43.49\\xa0',\n",
       "  'N\\xa0\\xa0',\n",
       "  '12.88\\xa0',\n",
       "  'E\\xa0\\xa0',\n",
       "  '2.0',\n",
       "  '\\xa0CENTRAL ITALY'],\n",
       " ['earthquake2020-06-26\\xa0\\xa0\\xa013:57:43.84hr 24min ago',\n",
       "  '36.48\\xa0',\n",
       "  'N\\xa0\\xa0',\n",
       "  '121.08\\xa0',\n",
       "  'W\\xa0\\xa0',\n",
       "  '2.6',\n",
       "  '\\xa0CENTRAL CALIFORNIA'],\n",
       " ['earthquake2020-06-26\\xa0\\xa0\\xa013:55:08.04hr 27min ago',\n",
       "  '66.44\\xa0',\n",
       "  'N\\xa0\\xa0',\n",
       "  '18.71\\xa0',\n",
       "  'W\\xa0\\xa0',\n",
       "  '3.5',\n",
       "  '\\xa0ICELAND REGION'],\n",
       " ['earthquake2020-06-26\\xa0\\xa0\\xa013:54:01.04hr 28min ago',\n",
       "  '19.16\\xa0',\n",
       "  'N\\xa0\\xa0',\n",
       "  '69.82\\xa0',\n",
       "  'W\\xa0\\xa0',\n",
       "  '3.3',\n",
       "  '\\xa0DOMINICAN REPUBLIC'],\n",
       " ['earthquake2020-06-26\\xa0\\xa0\\xa013:52:34.04hr 29min ago',\n",
       "  '18.41\\xa0',\n",
       "  'N\\xa0\\xa0',\n",
       "  '71.60\\xa0',\n",
       "  'W\\xa0\\xa0',\n",
       "  '3.1',\n",
       "  '\\xa0DOMINICAN REPUBLIC'],\n",
       " ['earthquake2020-06-26\\xa0\\xa0\\xa013:48:25.74hr 33min ago',\n",
       "  '28.90\\xa0',\n",
       "  'N\\xa0\\xa0',\n",
       "  '16.71\\xa0',\n",
       "  'W\\xa0\\xa0',\n",
       "  '2.2',\n",
       "  '\\xa0CANARY ISLANDS, SPAIN REGION']]"
      ]
     },
     "execution_count": 63,
     "metadata": {},
     "output_type": "execute_result"
    }
   ],
   "source": [
    "html = requests.get(url).content\n",
    "soup = BeautifulSoup(html, 'lxml')\n",
    "table = soup.find_all('tbody', {'id': 'tbody'}, limit=20) [0]\n",
    "#table = soup.find_all('tr', {'class': ['ligne1 normal', 'ligne2 normal']}, limit=20)\n",
    "\n",
    "rows = table.find_all('td', {'class': ['tabev6', 'tabev1', 'tabev2', 'tb_region']})\n",
    "rows_parsed = [row.text for row in rows]\n",
    "#rows_parsed[0:7]\n",
    "\n",
    "row_split = 7\n",
    "\n",
    "rows_refactored = [rows_parsed[x:x+row_split] for x in range(0, len(rows_parsed), row_split)]\n",
    "rows_refactored"
   ]
  },
  {
   "cell_type": "code",
   "execution_count": 93,
   "metadata": {},
   "outputs": [
    {
     "data": {
      "text/html": [
       "<div>\n",
       "<style scoped>\n",
       "    .dataframe tbody tr th:only-of-type {\n",
       "        vertical-align: middle;\n",
       "    }\n",
       "\n",
       "    .dataframe tbody tr th {\n",
       "        vertical-align: top;\n",
       "    }\n",
       "\n",
       "    .dataframe thead th {\n",
       "        text-align: right;\n",
       "    }\n",
       "</style>\n",
       "<table border=\"1\" class=\"dataframe\">\n",
       "  <thead>\n",
       "    <tr style=\"text-align: right;\">\n",
       "      <th></th>\n",
       "      <th>datetime</th>\n",
       "      <th>latitude_gr</th>\n",
       "      <th>latitude_n</th>\n",
       "      <th>longitude_gr</th>\n",
       "      <th>longitude_n</th>\n",
       "      <th>magnitude</th>\n",
       "      <th>region_name</th>\n",
       "    </tr>\n",
       "  </thead>\n",
       "  <tbody>\n",
       "    <tr>\n",
       "      <th>0</th>\n",
       "      <td>earthquake2020-06-26   17:56:19.026min ago</td>\n",
       "      <td>36.44</td>\n",
       "      <td>N</td>\n",
       "      <td>117.97</td>\n",
       "      <td>W</td>\n",
       "      <td>2.3</td>\n",
       "      <td>CENTRAL CALIFORNIA</td>\n",
       "    </tr>\n",
       "    <tr>\n",
       "      <th>1</th>\n",
       "      <td>earthquake2020-06-26   17:54:42.127min ago</td>\n",
       "      <td>37.41</td>\n",
       "      <td>N</td>\n",
       "      <td>31.47</td>\n",
       "      <td>E</td>\n",
       "      <td>2.5</td>\n",
       "      <td>WESTERN TURKEY</td>\n",
       "    </tr>\n",
       "    <tr>\n",
       "      <th>2</th>\n",
       "      <td>earthquake2020-06-26   17:42:25.639min ago</td>\n",
       "      <td>37.46</td>\n",
       "      <td>N</td>\n",
       "      <td>118.81</td>\n",
       "      <td>W</td>\n",
       "      <td>2.2</td>\n",
       "      <td>CENTRAL CALIFORNIA</td>\n",
       "    </tr>\n",
       "    <tr>\n",
       "      <th>3</th>\n",
       "      <td>earthquake2020-06-26   17:27:33.654min ago</td>\n",
       "      <td>36.57</td>\n",
       "      <td>S</td>\n",
       "      <td>178.99</td>\n",
       "      <td>E</td>\n",
       "      <td>4.1</td>\n",
       "      <td>OFF E. COAST OF N. ISLAND, N.Z.</td>\n",
       "    </tr>\n",
       "    <tr>\n",
       "      <th>4</th>\n",
       "      <td>earthquake2020-06-26   17:23:13.059min ago</td>\n",
       "      <td>36.59</td>\n",
       "      <td>N</td>\n",
       "      <td>117.65</td>\n",
       "      <td>W</td>\n",
       "      <td>2.3</td>\n",
       "      <td>CENTRAL CALIFORNIA</td>\n",
       "    </tr>\n",
       "  </tbody>\n",
       "</table>\n",
       "</div>"
      ],
      "text/plain": [
       "                                     datetime latitude_gr latitude_n  \\\n",
       "0  earthquake2020-06-26   17:56:19.026min ago      36.44         N     \n",
       "1  earthquake2020-06-26   17:54:42.127min ago      37.41         N     \n",
       "2  earthquake2020-06-26   17:42:25.639min ago      37.46         N     \n",
       "3  earthquake2020-06-26   17:27:33.654min ago      36.57         S     \n",
       "4  earthquake2020-06-26   17:23:13.059min ago      36.59         N     \n",
       "\n",
       "  longitude_gr longitude_n magnitude                       region_name  \n",
       "0      117.97          W         2.3                CENTRAL CALIFORNIA  \n",
       "1       31.47          E         2.5                    WESTERN TURKEY  \n",
       "2      118.81          W         2.2                CENTRAL CALIFORNIA  \n",
       "3      178.99          E         4.1   OFF E. COAST OF N. ISLAND, N.Z.  \n",
       "4      117.65          W         2.3                CENTRAL CALIFORNIA  "
      ]
     },
     "execution_count": 93,
     "metadata": {},
     "output_type": "execute_result"
    }
   ],
   "source": [
    "earthquakes = pd.DataFrame(rows_refactored, columns=['datetime', 'latitude_gr', 'latitude_n', 'longitude_gr', 'longitude_n', 'magnitude', 'region_name'])\n",
    "\n",
    "earthquakes.head()"
   ]
  },
  {
   "cell_type": "code",
   "execution_count": 98,
   "metadata": {},
   "outputs": [
    {
     "data": {
      "text/html": [
       "<div>\n",
       "<style scoped>\n",
       "    .dataframe tbody tr th:only-of-type {\n",
       "        vertical-align: middle;\n",
       "    }\n",
       "\n",
       "    .dataframe tbody tr th {\n",
       "        vertical-align: top;\n",
       "    }\n",
       "\n",
       "    .dataframe thead th {\n",
       "        text-align: right;\n",
       "    }\n",
       "</style>\n",
       "<table border=\"1\" class=\"dataframe\">\n",
       "  <thead>\n",
       "    <tr style=\"text-align: right;\">\n",
       "      <th></th>\n",
       "      <th>datetime</th>\n",
       "      <th>region_name</th>\n",
       "      <th>latitude</th>\n",
       "      <th>longitude</th>\n",
       "    </tr>\n",
       "  </thead>\n",
       "  <tbody>\n",
       "    <tr>\n",
       "      <th>0</th>\n",
       "      <td>earthquake2020-06-26   17:56:19.026min ago</td>\n",
       "      <td>Central California</td>\n",
       "      <td>36.44 N</td>\n",
       "      <td>117.97 W</td>\n",
       "    </tr>\n",
       "    <tr>\n",
       "      <th>1</th>\n",
       "      <td>earthquake2020-06-26   17:54:42.127min ago</td>\n",
       "      <td>Western Turkey</td>\n",
       "      <td>37.41 N</td>\n",
       "      <td>31.47 E</td>\n",
       "    </tr>\n",
       "    <tr>\n",
       "      <th>2</th>\n",
       "      <td>earthquake2020-06-26   17:42:25.639min ago</td>\n",
       "      <td>Central California</td>\n",
       "      <td>37.46 N</td>\n",
       "      <td>118.81 W</td>\n",
       "    </tr>\n",
       "    <tr>\n",
       "      <th>3</th>\n",
       "      <td>earthquake2020-06-26   17:27:33.654min ago</td>\n",
       "      <td>Off E. Coast Of N. Island, N.Z.</td>\n",
       "      <td>36.57 S</td>\n",
       "      <td>178.99 E</td>\n",
       "    </tr>\n",
       "    <tr>\n",
       "      <th>4</th>\n",
       "      <td>earthquake2020-06-26   17:23:13.059min ago</td>\n",
       "      <td>Central California</td>\n",
       "      <td>36.59 N</td>\n",
       "      <td>117.65 W</td>\n",
       "    </tr>\n",
       "  </tbody>\n",
       "</table>\n",
       "</div>"
      ],
      "text/plain": [
       "                                     datetime  \\\n",
       "0  earthquake2020-06-26   17:56:19.026min ago   \n",
       "1  earthquake2020-06-26   17:54:42.127min ago   \n",
       "2  earthquake2020-06-26   17:42:25.639min ago   \n",
       "3  earthquake2020-06-26   17:27:33.654min ago   \n",
       "4  earthquake2020-06-26   17:23:13.059min ago   \n",
       "\n",
       "                        region_name   latitude   longitude  \n",
       "0                Central California  36.44 N    117.97 W    \n",
       "1                    Western Turkey  37.41 N     31.47 E    \n",
       "2                Central California  37.46 N    118.81 W    \n",
       "3   Off E. Coast Of N. Island, N.Z.  36.57 S    178.99 E    \n",
       "4                Central California  36.59 N    117.65 W    "
      ]
     },
     "execution_count": 98,
     "metadata": {},
     "output_type": "execute_result"
    }
   ],
   "source": [
    "earzy = earthquakes\n",
    "\n",
    "earzy['latitude'] = earzy[['latitude_gr', 'latitude_n']].apply(lambda x: ''.join(x), axis=1)\n",
    "earzy['longitude'] = earzy[['longitude_gr', 'longitude_n']].apply(lambda x: ''.join(x), axis=1)\n",
    "earzy['region_name'] = earzy['region_name'].str.title()\n",
    "\n",
    "columns = ['datetime', 'region_name', 'latitude', 'longitude']\n",
    "\n",
    "earzy[columns].head()"
   ]
  },
  {
   "cell_type": "code",
   "execution_count": 163,
   "metadata": {},
   "outputs": [],
   "source": [
    "import re\n",
    "\n",
    "def cleaning_dt(x):\n",
    "    y = x.split(' ',1)\n",
    "    z = [re.sub('[a-z]', '', i).strip() for i in y]\n",
    "    \n",
    "    return z\n"
   ]
  },
  {
   "cell_type": "code",
   "execution_count": 164,
   "metadata": {},
   "outputs": [
    {
     "name": "stdout",
     "output_type": "stream",
     "text": [
      "['2020-06-26', '17:56:19.026']\n"
     ]
    }
   ],
   "source": [
    "texto = \"earthquake2020-06-26   17:56:19.026min ago\"\n",
    "\n",
    "#texti = texto.split(' ',1)\n",
    "#textu = re.sub('[a-z]', '', texti[0])\n",
    "\n",
    "print(cleaning_dt(texto))"
   ]
  },
  {
   "cell_type": "code",
   "execution_count": 166,
   "metadata": {},
   "outputs": [
    {
     "data": {
      "text/plain": [
       "0      [2020-06-26   17:56:19.026, ]\n",
       "1      [2020-06-26   17:54:42.127, ]\n",
       "2      [2020-06-26   17:42:25.639, ]\n",
       "3      [2020-06-26   17:27:33.654, ]\n",
       "4      [2020-06-26   17:23:13.059, ]\n",
       "5     [2020-06-26   17:14:13.91, 08]\n",
       "6     [2020-06-26   16:57:14.01, 25]\n",
       "7     [2020-06-26   16:57:05.31, 25]\n",
       "8     [2020-06-26   16:56:12.51, 26]\n",
       "9     [2020-06-26   16:51:30.01, 30]\n",
       "10    [2020-06-26   16:51:21.81, 30]\n",
       "11    [2020-06-26   16:49:00.01, 33]\n",
       "12    [2020-06-26   16:43:17.01, 39]\n",
       "13    [2020-06-26   16:27:30.81, 54]\n",
       "14    [2020-06-26   16:22:57.01, 59]\n",
       "15    [2020-06-26   16:21:06.32, 01]\n",
       "16    [2020-06-26   16:18:32.12, 03]\n",
       "17    [2020-06-26   16:14:42.72, 07]\n",
       "18    [2020-06-26   16:11:35.22, 10]\n",
       "19    [2020-06-26   16:05:44.72, 16]\n",
       "Name: datetime, dtype: object"
      ]
     },
     "execution_count": 166,
     "metadata": {},
     "output_type": "execute_result"
    }
   ],
   "source": [
    "earzy['datetime'].apply(cleaning_dt).head(20)"
   ]
  },
  {
   "cell_type": "code",
   "execution_count": null,
   "metadata": {},
   "outputs": [],
   "source": []
  },
  {
   "cell_type": "code",
   "execution_count": null,
   "metadata": {},
   "outputs": [],
   "source": []
  },
  {
   "cell_type": "markdown",
   "metadata": {},
   "source": [
    "#### Count the number of tweets by a given Twitter account.\n",
    "Ask the user for the handle (@handle) of a twitter account. You will need to include a ***try/except block*** for account names not found. \n",
    "<br>***Hint:*** the program should count the number of tweets for any provided account."
   ]
  },
  {
   "cell_type": "code",
   "execution_count": null,
   "metadata": {},
   "outputs": [],
   "source": [
    "# This is the url you will scrape in this exercise \n",
    "# You will need to add the account credentials to this url\n",
    "url = 'https://twitter.com/'"
   ]
  },
  {
   "cell_type": "code",
   "execution_count": null,
   "metadata": {},
   "outputs": [],
   "source": [
    "# your code here"
   ]
  },
  {
   "cell_type": "markdown",
   "metadata": {},
   "source": [
    "#### Number of followers of a given twitter account\n",
    "Ask the user for the handle (@handle) of a twitter account. You will need to include a ***try/except block*** for account names not found. \n",
    "<br>***Hint:*** the program should count the followers for any provided account."
   ]
  },
  {
   "cell_type": "code",
   "execution_count": null,
   "metadata": {},
   "outputs": [],
   "source": [
    "# This is the url you will scrape in this exercise \n",
    "# You will need to add the account credentials to this url\n",
    "url = 'https://twitter.com/'"
   ]
  },
  {
   "cell_type": "code",
   "execution_count": null,
   "metadata": {},
   "outputs": [],
   "source": [
    "# your code here"
   ]
  },
  {
   "cell_type": "markdown",
   "metadata": {},
   "source": [
    "#### List all language names and number of related articles in the order they appear in wikipedia.org."
   ]
  },
  {
   "cell_type": "code",
   "execution_count": null,
   "metadata": {},
   "outputs": [],
   "source": [
    "# This is the url you will scrape in this exercise\n",
    "url = 'https://www.wikipedia.org/'"
   ]
  },
  {
   "cell_type": "code",
   "execution_count": null,
   "metadata": {},
   "outputs": [],
   "source": [
    "# your code here"
   ]
  },
  {
   "cell_type": "markdown",
   "metadata": {},
   "source": [
    "#### A list with the different kind of datasets available in data.gov.uk."
   ]
  },
  {
   "cell_type": "code",
   "execution_count": null,
   "metadata": {},
   "outputs": [],
   "source": [
    "# This is the url you will scrape in this exercise\n",
    "url = 'https://data.gov.uk/'"
   ]
  },
  {
   "cell_type": "code",
   "execution_count": null,
   "metadata": {},
   "outputs": [],
   "source": [
    "# your code here"
   ]
  },
  {
   "cell_type": "markdown",
   "metadata": {},
   "source": [
    "#### Display the top 10 languages by number of native speakers stored in a pandas dataframe."
   ]
  },
  {
   "cell_type": "code",
   "execution_count": null,
   "metadata": {},
   "outputs": [],
   "source": [
    "# This is the url you will scrape in this exercise\n",
    "url = 'https://en.wikipedia.org/wiki/List_of_languages_by_number_of_native_speakers'"
   ]
  },
  {
   "cell_type": "code",
   "execution_count": null,
   "metadata": {},
   "outputs": [],
   "source": [
    "# your code here"
   ]
  },
  {
   "cell_type": "markdown",
   "metadata": {},
   "source": [
    "## Bonus\n",
    "#### Scrape a certain number of tweets of a given Twitter account."
   ]
  },
  {
   "cell_type": "code",
   "execution_count": null,
   "metadata": {},
   "outputs": [],
   "source": [
    "# This is the url you will scrape in this exercise \n",
    "# You will need to add the account credentials to this url\n",
    "url = 'https://twitter.com/'"
   ]
  },
  {
   "cell_type": "code",
   "execution_count": null,
   "metadata": {},
   "outputs": [],
   "source": [
    "# your code here"
   ]
  },
  {
   "cell_type": "markdown",
   "metadata": {},
   "source": [
    "#### Display IMDB's top 250 data (movie name, initial release, director name and stars) as a pandas dataframe."
   ]
  },
  {
   "cell_type": "code",
   "execution_count": null,
   "metadata": {},
   "outputs": [],
   "source": [
    "# This is the url you will scrape in this exercise \n",
    "url = 'https://www.imdb.com/chart/top'"
   ]
  },
  {
   "cell_type": "code",
   "execution_count": null,
   "metadata": {},
   "outputs": [],
   "source": [
    "# your code here"
   ]
  },
  {
   "cell_type": "markdown",
   "metadata": {},
   "source": [
    "#### Display the movie name, year and a brief summary of the top 10 random movies (IMDB) as a pandas dataframe."
   ]
  },
  {
   "cell_type": "code",
   "execution_count": null,
   "metadata": {},
   "outputs": [],
   "source": [
    "#This is the url you will scrape in this exercise\n",
    "url = 'http://www.imdb.com/chart/top'"
   ]
  },
  {
   "cell_type": "code",
   "execution_count": null,
   "metadata": {},
   "outputs": [],
   "source": [
    "# your code here"
   ]
  },
  {
   "cell_type": "markdown",
   "metadata": {},
   "source": [
    "#### Find the live weather report (temperature, wind speed, description and weather) of a given city."
   ]
  },
  {
   "cell_type": "code",
   "execution_count": null,
   "metadata": {},
   "outputs": [],
   "source": [
    "#https://openweathermap.org/current\n",
    "city = input('Enter the city: ')\n",
    "url = 'http://api.openweathermap.org/data/2.5/weather?'+'q='+city+'&APPID=b35975e18dc93725acb092f7272cc6b8&units=metric'"
   ]
  },
  {
   "cell_type": "code",
   "execution_count": null,
   "metadata": {},
   "outputs": [],
   "source": [
    "# your code here"
   ]
  },
  {
   "cell_type": "markdown",
   "metadata": {},
   "source": [
    "#### Find the book name, price and stock availability as a pandas dataframe."
   ]
  },
  {
   "cell_type": "code",
   "execution_count": null,
   "metadata": {},
   "outputs": [],
   "source": [
    "# This is the url you will scrape in this exercise. \n",
    "# It is a fictional bookstore created to be scraped. \n",
    "url = 'http://books.toscrape.com/'"
   ]
  },
  {
   "cell_type": "code",
   "execution_count": null,
   "metadata": {},
   "outputs": [],
   "source": [
    "# your code here"
   ]
  }
 ],
 "metadata": {
  "kernelspec": {
   "display_name": "Python [conda env:lab_env]",
   "language": "python",
   "name": "conda-env-lab_env-py"
  },
  "language_info": {
   "codemirror_mode": {
    "name": "ipython",
    "version": 3
   },
   "file_extension": ".py",
   "mimetype": "text/x-python",
   "name": "python",
   "nbconvert_exporter": "python",
   "pygments_lexer": "ipython3",
   "version": "3.7.7"
  }
 },
 "nbformat": 4,
 "nbformat_minor": 2
}
