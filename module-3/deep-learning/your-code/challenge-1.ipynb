{
 "cells": [
  {
   "cell_type": "markdown",
   "metadata": {},
   "source": [
    "# Challenge 1 - Tic Tac Toe\n",
    "\n",
    "In this lab you will perform deep learning analysis on a dataset of playing [Tic Tac Toe](https://en.wikipedia.org/wiki/Tic-tac-toe).\n",
    "\n",
    "There are 9 grids in Tic Tac Toe that are coded as the following picture shows:\n",
    "\n",
    "![Tic Tac Toe Grids](tttboard.jpg)\n",
    "\n",
    "In the first 9 columns of the dataset you can find which marks (`x` or `o`) exist in the grids. If there is no mark in a certain grid, it is labeled as `b`. The last column is `class` which tells you whether Player X (who always moves first in Tic Tac Toe) wins in this configuration. Note that when `class` has the value `False`, it means either Player O wins the game or it ends up as a draw."
   ]
  },
  {
   "cell_type": "markdown",
   "metadata": {},
   "source": [
    "Follow the steps suggested below to conduct a neural network analysis using Tensorflow and Keras. You will build a deep learning model to predict whether Player X wins the game or not.\n",
    "\n",
    "## Step 1: Data Engineering\n",
    "\n",
    "This dataset is almost in the ready-to-use state so you do not need to worry about missing values and so on. Still, some simple data engineering is needed.\n",
    "\n",
    "1. Read `tic-tac-toe.csv` into a dataframe.\n",
    "1. Inspect the dataset. Determine if the dataset is reliable by eyeballing the data.\n",
    "1. Convert the categorical values to numeric in all columns.\n",
    "1. Separate the inputs and output.\n",
    "1. Normalize the input data."
   ]
  },
  {
   "cell_type": "code",
   "execution_count": 1,
   "metadata": {},
   "outputs": [],
   "source": [
    "import pandas as pd"
   ]
  },
  {
   "cell_type": "code",
   "execution_count": 2,
   "metadata": {},
   "outputs": [],
   "source": [
    "ttt = pd.read_csv('tic-tac-toe.csv')"
   ]
  },
  {
   "cell_type": "code",
   "execution_count": 3,
   "metadata": {},
   "outputs": [
    {
     "data": {
      "text/html": [
       "<div>\n",
       "<style scoped>\n",
       "    .dataframe tbody tr th:only-of-type {\n",
       "        vertical-align: middle;\n",
       "    }\n",
       "\n",
       "    .dataframe tbody tr th {\n",
       "        vertical-align: top;\n",
       "    }\n",
       "\n",
       "    .dataframe thead th {\n",
       "        text-align: right;\n",
       "    }\n",
       "</style>\n",
       "<table border=\"1\" class=\"dataframe\">\n",
       "  <thead>\n",
       "    <tr style=\"text-align: right;\">\n",
       "      <th></th>\n",
       "      <th>TL</th>\n",
       "      <th>TM</th>\n",
       "      <th>TR</th>\n",
       "      <th>ML</th>\n",
       "      <th>MM</th>\n",
       "      <th>MR</th>\n",
       "      <th>BL</th>\n",
       "      <th>BM</th>\n",
       "      <th>BR</th>\n",
       "      <th>class</th>\n",
       "    </tr>\n",
       "  </thead>\n",
       "  <tbody>\n",
       "    <tr>\n",
       "      <th>0</th>\n",
       "      <td>x</td>\n",
       "      <td>x</td>\n",
       "      <td>x</td>\n",
       "      <td>x</td>\n",
       "      <td>o</td>\n",
       "      <td>o</td>\n",
       "      <td>x</td>\n",
       "      <td>o</td>\n",
       "      <td>o</td>\n",
       "      <td>True</td>\n",
       "    </tr>\n",
       "    <tr>\n",
       "      <th>1</th>\n",
       "      <td>x</td>\n",
       "      <td>x</td>\n",
       "      <td>x</td>\n",
       "      <td>x</td>\n",
       "      <td>o</td>\n",
       "      <td>o</td>\n",
       "      <td>o</td>\n",
       "      <td>x</td>\n",
       "      <td>o</td>\n",
       "      <td>True</td>\n",
       "    </tr>\n",
       "    <tr>\n",
       "      <th>2</th>\n",
       "      <td>x</td>\n",
       "      <td>x</td>\n",
       "      <td>x</td>\n",
       "      <td>x</td>\n",
       "      <td>o</td>\n",
       "      <td>o</td>\n",
       "      <td>o</td>\n",
       "      <td>o</td>\n",
       "      <td>x</td>\n",
       "      <td>True</td>\n",
       "    </tr>\n",
       "    <tr>\n",
       "      <th>3</th>\n",
       "      <td>x</td>\n",
       "      <td>x</td>\n",
       "      <td>x</td>\n",
       "      <td>x</td>\n",
       "      <td>o</td>\n",
       "      <td>o</td>\n",
       "      <td>o</td>\n",
       "      <td>b</td>\n",
       "      <td>b</td>\n",
       "      <td>True</td>\n",
       "    </tr>\n",
       "    <tr>\n",
       "      <th>4</th>\n",
       "      <td>x</td>\n",
       "      <td>x</td>\n",
       "      <td>x</td>\n",
       "      <td>x</td>\n",
       "      <td>o</td>\n",
       "      <td>o</td>\n",
       "      <td>b</td>\n",
       "      <td>o</td>\n",
       "      <td>b</td>\n",
       "      <td>True</td>\n",
       "    </tr>\n",
       "  </tbody>\n",
       "</table>\n",
       "</div>"
      ],
      "text/plain": [
       "  TL TM TR ML MM MR BL BM BR  class\n",
       "0  x  x  x  x  o  o  x  o  o   True\n",
       "1  x  x  x  x  o  o  o  x  o   True\n",
       "2  x  x  x  x  o  o  o  o  x   True\n",
       "3  x  x  x  x  o  o  o  b  b   True\n",
       "4  x  x  x  x  o  o  b  o  b   True"
      ]
     },
     "execution_count": 3,
     "metadata": {},
     "output_type": "execute_result"
    }
   ],
   "source": [
    "ttt.head()"
   ]
  },
  {
   "cell_type": "code",
   "execution_count": 4,
   "metadata": {},
   "outputs": [],
   "source": [
    "#ttt = ttt.astype('category')"
   ]
  },
  {
   "cell_type": "code",
   "execution_count": 5,
   "metadata": {},
   "outputs": [],
   "source": [
    "ttt_dummies = pd.get_dummies(ttt)\n",
    "ttt_dummies[\"class\"] = ttt_dummies[\"class\"].astype(int)"
   ]
  },
  {
   "cell_type": "code",
   "execution_count": 7,
   "metadata": {},
   "outputs": [
    {
     "name": "stdout",
     "output_type": "stream",
     "text": [
      "<class 'pandas.core.frame.DataFrame'>\n",
      "RangeIndex: 958 entries, 0 to 957\n",
      "Data columns (total 28 columns):\n",
      "class    958 non-null int64\n",
      "TL_b     958 non-null uint8\n",
      "TL_o     958 non-null uint8\n",
      "TL_x     958 non-null uint8\n",
      "TM_b     958 non-null uint8\n",
      "TM_o     958 non-null uint8\n",
      "TM_x     958 non-null uint8\n",
      "TR_b     958 non-null uint8\n",
      "TR_o     958 non-null uint8\n",
      "TR_x     958 non-null uint8\n",
      "ML_b     958 non-null uint8\n",
      "ML_o     958 non-null uint8\n",
      "ML_x     958 non-null uint8\n",
      "MM_b     958 non-null uint8\n",
      "MM_o     958 non-null uint8\n",
      "MM_x     958 non-null uint8\n",
      "MR_b     958 non-null uint8\n",
      "MR_o     958 non-null uint8\n",
      "MR_x     958 non-null uint8\n",
      "BL_b     958 non-null uint8\n",
      "BL_o     958 non-null uint8\n",
      "BL_x     958 non-null uint8\n",
      "BM_b     958 non-null uint8\n",
      "BM_o     958 non-null uint8\n",
      "BM_x     958 non-null uint8\n",
      "BR_b     958 non-null uint8\n",
      "BR_o     958 non-null uint8\n",
      "BR_x     958 non-null uint8\n",
      "dtypes: int64(1), uint8(27)\n",
      "memory usage: 32.8 KB\n"
     ]
    }
   ],
   "source": [
    "ttt_dummies.info()"
   ]
  },
  {
   "cell_type": "code",
   "execution_count": 8,
   "metadata": {},
   "outputs": [
    {
     "data": {
      "text/plain": [
       "Index(['class', 'TL_b', 'TL_o', 'TL_x', 'TM_b', 'TM_o', 'TM_x', 'TR_b', 'TR_o',\n",
       "       'TR_x', 'ML_b', 'ML_o', 'ML_x', 'MM_b', 'MM_o', 'MM_x', 'MR_b', 'MR_o',\n",
       "       'MR_x', 'BL_b', 'BL_o', 'BL_x', 'BM_b', 'BM_o', 'BM_x', 'BR_b', 'BR_o',\n",
       "       'BR_x'],\n",
       "      dtype='object')"
      ]
     },
     "execution_count": 8,
     "metadata": {},
     "output_type": "execute_result"
    }
   ],
   "source": [
    "cols = ttt_dummies.columns\n",
    "cols"
   ]
  },
  {
   "cell_type": "code",
   "execution_count": 9,
   "metadata": {},
   "outputs": [],
   "source": [
    "'''\n",
    "from sklearn.preprocessing import OneHotEncoder\n",
    "enc = OneHotEncoder(handle_unknown='ignore')\n",
    "enc_df = pd.DataFrame(enc.fit_transform(ttt[['TL', 'TM', 'TR', 'ML', 'MM', 'MR', 'BL', 'BM', 'BR', 'class']]).toarray())\n",
    "# merge with main df on key values\n",
    "ttt_OHE = ttt.join(enc_df)\n",
    "ttt_OHE.drop(columns = ['TL', 'TM', 'TR', 'ML', 'MM', 'MR', 'BL', 'BM', 'BR', 'class'], inplace=True)'''"
   ]
  },
  {
   "cell_type": "code",
   "execution_count": 9,
   "metadata": {},
   "outputs": [],
   "source": [
    "y_df = ttt_dummies[\"class\"]"
   ]
  },
  {
   "cell_type": "code",
   "execution_count": 10,
   "metadata": {},
   "outputs": [],
   "source": [
    "X_df = ttt_dummies.drop(columns = 'class')"
   ]
  },
  {
   "cell_type": "code",
   "execution_count": 11,
   "metadata": {},
   "outputs": [
    {
     "data": {
      "text/html": [
       "<div>\n",
       "<style scoped>\n",
       "    .dataframe tbody tr th:only-of-type {\n",
       "        vertical-align: middle;\n",
       "    }\n",
       "\n",
       "    .dataframe tbody tr th {\n",
       "        vertical-align: top;\n",
       "    }\n",
       "\n",
       "    .dataframe thead th {\n",
       "        text-align: right;\n",
       "    }\n",
       "</style>\n",
       "<table border=\"1\" class=\"dataframe\">\n",
       "  <thead>\n",
       "    <tr style=\"text-align: right;\">\n",
       "      <th></th>\n",
       "      <th>TL_b</th>\n",
       "      <th>TL_o</th>\n",
       "      <th>TL_x</th>\n",
       "      <th>TM_b</th>\n",
       "      <th>TM_o</th>\n",
       "      <th>TM_x</th>\n",
       "      <th>TR_b</th>\n",
       "      <th>TR_o</th>\n",
       "      <th>TR_x</th>\n",
       "      <th>ML_b</th>\n",
       "      <th>...</th>\n",
       "      <th>MR_x</th>\n",
       "      <th>BL_b</th>\n",
       "      <th>BL_o</th>\n",
       "      <th>BL_x</th>\n",
       "      <th>BM_b</th>\n",
       "      <th>BM_o</th>\n",
       "      <th>BM_x</th>\n",
       "      <th>BR_b</th>\n",
       "      <th>BR_o</th>\n",
       "      <th>BR_x</th>\n",
       "    </tr>\n",
       "  </thead>\n",
       "  <tbody>\n",
       "    <tr>\n",
       "      <th>0</th>\n",
       "      <td>0</td>\n",
       "      <td>0</td>\n",
       "      <td>1</td>\n",
       "      <td>0</td>\n",
       "      <td>0</td>\n",
       "      <td>1</td>\n",
       "      <td>0</td>\n",
       "      <td>0</td>\n",
       "      <td>1</td>\n",
       "      <td>0</td>\n",
       "      <td>...</td>\n",
       "      <td>0</td>\n",
       "      <td>0</td>\n",
       "      <td>0</td>\n",
       "      <td>1</td>\n",
       "      <td>0</td>\n",
       "      <td>1</td>\n",
       "      <td>0</td>\n",
       "      <td>0</td>\n",
       "      <td>1</td>\n",
       "      <td>0</td>\n",
       "    </tr>\n",
       "    <tr>\n",
       "      <th>1</th>\n",
       "      <td>0</td>\n",
       "      <td>0</td>\n",
       "      <td>1</td>\n",
       "      <td>0</td>\n",
       "      <td>0</td>\n",
       "      <td>1</td>\n",
       "      <td>0</td>\n",
       "      <td>0</td>\n",
       "      <td>1</td>\n",
       "      <td>0</td>\n",
       "      <td>...</td>\n",
       "      <td>0</td>\n",
       "      <td>0</td>\n",
       "      <td>1</td>\n",
       "      <td>0</td>\n",
       "      <td>0</td>\n",
       "      <td>0</td>\n",
       "      <td>1</td>\n",
       "      <td>0</td>\n",
       "      <td>1</td>\n",
       "      <td>0</td>\n",
       "    </tr>\n",
       "    <tr>\n",
       "      <th>2</th>\n",
       "      <td>0</td>\n",
       "      <td>0</td>\n",
       "      <td>1</td>\n",
       "      <td>0</td>\n",
       "      <td>0</td>\n",
       "      <td>1</td>\n",
       "      <td>0</td>\n",
       "      <td>0</td>\n",
       "      <td>1</td>\n",
       "      <td>0</td>\n",
       "      <td>...</td>\n",
       "      <td>0</td>\n",
       "      <td>0</td>\n",
       "      <td>1</td>\n",
       "      <td>0</td>\n",
       "      <td>0</td>\n",
       "      <td>1</td>\n",
       "      <td>0</td>\n",
       "      <td>0</td>\n",
       "      <td>0</td>\n",
       "      <td>1</td>\n",
       "    </tr>\n",
       "    <tr>\n",
       "      <th>3</th>\n",
       "      <td>0</td>\n",
       "      <td>0</td>\n",
       "      <td>1</td>\n",
       "      <td>0</td>\n",
       "      <td>0</td>\n",
       "      <td>1</td>\n",
       "      <td>0</td>\n",
       "      <td>0</td>\n",
       "      <td>1</td>\n",
       "      <td>0</td>\n",
       "      <td>...</td>\n",
       "      <td>0</td>\n",
       "      <td>0</td>\n",
       "      <td>1</td>\n",
       "      <td>0</td>\n",
       "      <td>1</td>\n",
       "      <td>0</td>\n",
       "      <td>0</td>\n",
       "      <td>1</td>\n",
       "      <td>0</td>\n",
       "      <td>0</td>\n",
       "    </tr>\n",
       "    <tr>\n",
       "      <th>4</th>\n",
       "      <td>0</td>\n",
       "      <td>0</td>\n",
       "      <td>1</td>\n",
       "      <td>0</td>\n",
       "      <td>0</td>\n",
       "      <td>1</td>\n",
       "      <td>0</td>\n",
       "      <td>0</td>\n",
       "      <td>1</td>\n",
       "      <td>0</td>\n",
       "      <td>...</td>\n",
       "      <td>0</td>\n",
       "      <td>1</td>\n",
       "      <td>0</td>\n",
       "      <td>0</td>\n",
       "      <td>0</td>\n",
       "      <td>1</td>\n",
       "      <td>0</td>\n",
       "      <td>1</td>\n",
       "      <td>0</td>\n",
       "      <td>0</td>\n",
       "    </tr>\n",
       "  </tbody>\n",
       "</table>\n",
       "<p>5 rows × 27 columns</p>\n",
       "</div>"
      ],
      "text/plain": [
       "   TL_b  TL_o  TL_x  TM_b  TM_o  TM_x  TR_b  TR_o  TR_x  ML_b  ...  MR_x  \\\n",
       "0     0     0     1     0     0     1     0     0     1     0  ...     0   \n",
       "1     0     0     1     0     0     1     0     0     1     0  ...     0   \n",
       "2     0     0     1     0     0     1     0     0     1     0  ...     0   \n",
       "3     0     0     1     0     0     1     0     0     1     0  ...     0   \n",
       "4     0     0     1     0     0     1     0     0     1     0  ...     0   \n",
       "\n",
       "   BL_b  BL_o  BL_x  BM_b  BM_o  BM_x  BR_b  BR_o  BR_x  \n",
       "0     0     0     1     0     1     0     0     1     0  \n",
       "1     0     1     0     0     0     1     0     1     0  \n",
       "2     0     1     0     0     1     0     0     0     1  \n",
       "3     0     1     0     1     0     0     1     0     0  \n",
       "4     1     0     0     0     1     0     1     0     0  \n",
       "\n",
       "[5 rows x 27 columns]"
      ]
     },
     "execution_count": 11,
     "metadata": {},
     "output_type": "execute_result"
    }
   ],
   "source": [
    "X_df.head()"
   ]
  },
  {
   "cell_type": "code",
   "execution_count": 12,
   "metadata": {},
   "outputs": [
    {
     "data": {
      "text/plain": [
       "0    1\n",
       "1    1\n",
       "2    1\n",
       "3    1\n",
       "4    1\n",
       "Name: class, dtype: int64"
      ]
     },
     "execution_count": 12,
     "metadata": {},
     "output_type": "execute_result"
    }
   ],
   "source": [
    "y_df.head()"
   ]
  },
  {
   "cell_type": "code",
   "execution_count": 14,
   "metadata": {},
   "outputs": [
    {
     "data": {
      "text/plain": [
       "'from sklearn.preprocessing import StandardScaler\\n\\n# create a scaler object\\nstd_scaler = StandardScaler()\\nstd_scaler\\n# fit and transform the data\\nX_std = pd.DataFrame(std_scaler.fit_transform(X_df))\\ny_std = pd.DataFrame(std_scaler.fit_transform(y_df))\\nX_std.head()\\n\\n\\nError and no need to reshape since dummies are 0 - 1'"
      ]
     },
     "execution_count": 14,
     "metadata": {},
     "output_type": "execute_result"
    }
   ],
   "source": [
    "'''from sklearn.preprocessing import StandardScaler\n",
    "\n",
    "# create a scaler object\n",
    "std_scaler = StandardScaler()\n",
    "std_scaler\n",
    "# fit and transform the data\n",
    "X_std = pd.DataFrame(std_scaler.fit_transform(X_df))\n",
    "y_std = pd.DataFrame(std_scaler.fit_transform(y_df))\n",
    "X_std.head()\n",
    "\n",
    "\n",
    "Error and no need to reshape since dummies are 0 - 1'''\n"
   ]
  },
  {
   "cell_type": "markdown",
   "metadata": {},
   "source": [
    "## Step 2: Build Neural Network\n",
    "\n",
    "To build the neural network, you can refer to your own codes you wrote while following the [Deep Learning with Python, TensorFlow, and Keras tutorial](https://www.youtube.com/watch?v=wQ8BIBpya2k) in the lesson. It's pretty similar to what you will be doing in this lab.\n",
    "\n",
    "1. Split the training and test data.\n",
    "1. Create a `Sequential` model.\n",
    "1. Add several layers to your model. Make sure you use ReLU as the activation function for the middle layers. Use Softmax for the output layer because each output has a single lable and all the label probabilities add up to 1.\n",
    "1. Compile the model using `adam` as the optimizer and `sparse_categorical_crossentropy` as the loss function. For metrics, use `accuracy` for now.\n",
    "1. Fit the training data.\n",
    "1. Evaluate your neural network model with the test data.\n",
    "1. Save your model as `tic-tac-toe.model`."
   ]
  },
  {
   "cell_type": "code",
   "execution_count": 15,
   "metadata": {},
   "outputs": [],
   "source": [
    "import tensorflow as tf\n",
    "from sklearn.model_selection import train_test_split"
   ]
  },
  {
   "cell_type": "code",
   "execution_count": 16,
   "metadata": {},
   "outputs": [],
   "source": [
    "x_train, y_train, x_test, y_test = train_test_split(X_df, y_df, random_state=42)"
   ]
  },
  {
   "cell_type": "code",
   "execution_count": 17,
   "metadata": {},
   "outputs": [
    {
     "name": "stdout",
     "output_type": "stream",
     "text": [
      "(718, 27)<class 'numpy.ndarray'> \t (718,)<class 'numpy.ndarray'>\n",
      "(240, 27)<class 'numpy.ndarray'> \t (240,)<class 'numpy.ndarray'>\n"
     ]
    }
   ],
   "source": [
    "import numpy as np\n",
    "x_train, x_test, y_train, y_test = [np.array(elemnt, dtype = float) for elemnt in [x_train, y_train, x_test, y_test]]\n",
    "\n",
    "print(f\"{x_train.shape}{type(x_train)} \\t {y_train.shape}{type(y_train)}\")\n",
    "print(f\"{x_test.shape}{type(x_test)} \\t {y_test.shape}{type(y_test)}\")"
   ]
  },
  {
   "cell_type": "code",
   "execution_count": 18,
   "metadata": {},
   "outputs": [],
   "source": [
    "model = tf.keras.Sequential([\n",
    "    tf.keras.layers.Flatten(),\n",
    "    tf.keras.layers.Dense(128, activation='relu'),\n",
    "    tf.keras.layers.Flatten(),\n",
    "    tf.keras.layers.Dense(32, activation='relu'),\n",
    "    tf.keras.layers.Dense(2, activation='softmax')\n",
    "])"
   ]
  },
  {
   "cell_type": "code",
   "execution_count": 19,
   "metadata": {},
   "outputs": [],
   "source": [
    "model.compile(optimizer='adam', \n",
    "              loss=tf.keras.losses.SparseCategoricalCrossentropy(from_logits=True), \n",
    "              metrics=['accuracy'])\n",
    "#              validation_data=(x_test, y_test)"
   ]
  },
  {
   "cell_type": "code",
   "execution_count": 20,
   "metadata": {},
   "outputs": [
    {
     "name": "stdout",
     "output_type": "stream",
     "text": [
      "Train on 718 samples, validate on 240 samples\n",
      "Epoch 1/5\n",
      "718/718 [==============================] - 0s 402us/sample - loss: 0.6583 - accuracy: 0.6379 - val_loss: 0.6128 - val_accuracy: 0.6917\n",
      "Epoch 2/5\n",
      "718/718 [==============================] - 0s 26us/sample - loss: 0.6142 - accuracy: 0.6490 - val_loss: 0.5896 - val_accuracy: 0.7167\n",
      "Epoch 3/5\n",
      "718/718 [==============================] - 0s 25us/sample - loss: 0.5865 - accuracy: 0.7159 - val_loss: 0.5749 - val_accuracy: 0.7625\n",
      "Epoch 4/5\n",
      "718/718 [==============================] - 0s 26us/sample - loss: 0.5638 - accuracy: 0.7493 - val_loss: 0.5617 - val_accuracy: 0.7583\n",
      "Epoch 5/5\n",
      "718/718 [==============================] - 0s 26us/sample - loss: 0.5481 - accuracy: 0.7730 - val_loss: 0.5508 - val_accuracy: 0.7708\n"
     ]
    }
   ],
   "source": [
    "history = model.fit(x_train, \n",
    "                    y_train, \n",
    "                    batch_size=64, \n",
    "                    epochs=5, \n",
    "                    validation_data=(x_test, y_test))"
   ]
  },
  {
   "cell_type": "code",
   "execution_count": 21,
   "metadata": {},
   "outputs": [
    {
     "name": "stdout",
     "output_type": "stream",
     "text": [
      "240/240 [==============================] - 0s 17us/sample - loss: 0.5508 - accuracy: 0.7708\n",
      "0.5507821639378866 0.7708333\n"
     ]
    }
   ],
   "source": [
    "val_loss, val_acc = model.evaluate(x_test, y_test)\n",
    "print(val_loss, val_acc)"
   ]
  },
  {
   "cell_type": "code",
   "execution_count": 22,
   "metadata": {},
   "outputs": [
    {
     "name": "stdout",
     "output_type": "stream",
     "text": [
      "WARNING:tensorflow:From /home/sergio/miniconda3/envs/lab_env/lib/python3.7/site-packages/tensorflow_core/python/ops/resource_variable_ops.py:1786: calling BaseResourceVariable.__init__ (from tensorflow.python.ops.resource_variable_ops) with constraint is deprecated and will be removed in a future version.\n",
      "Instructions for updating:\n",
      "If using Keras pass *_constraint arguments to layers.\n",
      "INFO:tensorflow:Assets written to: tic-tac-toe.model/assets\n"
     ]
    }
   ],
   "source": [
    "model.save('tic-tac-toe.model')"
   ]
  },
  {
   "cell_type": "markdown",
   "metadata": {},
   "source": [
    "## Step 3: Make Predictions\n",
    "\n",
    "Now load your saved model and use it to make predictions on a few random rows in the test dataset. Check if the predictions are correct."
   ]
  },
  {
   "cell_type": "code",
   "execution_count": 35,
   "metadata": {},
   "outputs": [],
   "source": [
    "model = tf.keras.models.load_model('tic-tac-toe.model')\n",
    "\n",
    "predictor = model.predict(x_test)"
   ]
  },
  {
   "cell_type": "code",
   "execution_count": 36,
   "metadata": {},
   "outputs": [
    {
     "name": "stdout",
     "output_type": "stream",
     "text": [
      "[[0.04999027 0.95000976]\n",
      " [0.20968665 0.79031336]\n",
      " [0.33477554 0.66522443]\n",
      " [0.2074044  0.79259557]\n",
      " [0.79489243 0.20510754]\n",
      " [0.04026308 0.9597369 ]\n",
      " [0.03650827 0.96349174]\n",
      " [0.8629302  0.13706985]\n",
      " [0.51573306 0.4842669 ]\n",
      " [0.19377154 0.80622846]\n",
      " [0.08924932 0.91075075]\n",
      " [0.26417413 0.7358259 ]\n",
      " [0.01300398 0.98699594]\n",
      " [0.7823133  0.2176867 ]\n",
      " [0.29339403 0.7066059 ]\n",
      " [0.02388973 0.9761103 ]\n",
      " [0.4880981  0.5119019 ]\n",
      " [0.27764538 0.7223546 ]\n",
      " [0.9238422  0.07615778]\n",
      " [0.7328588  0.26714122]\n",
      " [0.4322675  0.5677325 ]\n",
      " [0.06277683 0.93722314]\n",
      " [0.5017907  0.49820924]\n",
      " [0.15234002 0.84766   ]\n",
      " [0.6419815  0.35801855]\n",
      " [0.594491   0.40550902]\n",
      " [0.04268461 0.9573154 ]\n",
      " [0.09386809 0.9061319 ]\n",
      " [0.31795594 0.6820441 ]\n",
      " [0.20709097 0.792909  ]\n",
      " [0.00649907 0.9935009 ]\n",
      " [0.08735601 0.91264397]\n",
      " [0.12307016 0.8769298 ]\n",
      " [0.12337381 0.8766262 ]\n",
      " [0.20838992 0.79161006]\n",
      " [0.14160213 0.85839784]\n",
      " [0.5482923  0.45170766]\n",
      " [0.3325221  0.66747785]\n",
      " [0.06465618 0.93534386]\n",
      " [0.6077055  0.3922945 ]\n",
      " [0.01261137 0.9873886 ]\n",
      " [0.2725664  0.7274336 ]\n",
      " [0.42268106 0.5773189 ]\n",
      " [0.07963887 0.92036116]\n",
      " [0.7805581  0.21944194]\n",
      " [0.8764412  0.12355883]\n",
      " [0.04779324 0.95220673]\n",
      " [0.00445882 0.99554116]\n",
      " [0.5767288  0.42327118]\n",
      " [0.43261054 0.5673894 ]\n",
      " [0.5194702  0.48052981]\n",
      " [0.43014586 0.5698542 ]\n",
      " [0.04464404 0.95535594]\n",
      " [0.25095707 0.7490429 ]\n",
      " [0.4851487  0.51485133]\n",
      " [0.03236612 0.9676339 ]\n",
      " [0.00953097 0.99046904]\n",
      " [0.06552472 0.9344753 ]\n",
      " [0.7204261  0.27957395]\n",
      " [0.13082449 0.86917555]\n",
      " [0.05634134 0.9436586 ]\n",
      " [0.15208253 0.8479174 ]\n",
      " [0.9023098  0.09769025]\n",
      " [0.03940123 0.9605987 ]\n",
      " [0.3283748  0.6716252 ]\n",
      " [0.07678606 0.92321396]\n",
      " [0.2881845  0.71181554]\n",
      " [0.5992417  0.4007583 ]\n",
      " [0.03133729 0.9686627 ]\n",
      " [0.05673875 0.94326127]\n",
      " [0.20888637 0.7911136 ]\n",
      " [0.11925682 0.88074315]\n",
      " [0.67954147 0.32045856]\n",
      " [0.47357777 0.5264222 ]\n",
      " [0.12361236 0.87638766]\n",
      " [0.0124235  0.9875765 ]\n",
      " [0.03792301 0.96207696]\n",
      " [0.13460505 0.86539495]\n",
      " [0.01251123 0.9874888 ]\n",
      " [0.17768693 0.8223131 ]\n",
      " [0.26630053 0.7336995 ]\n",
      " [0.2698735  0.73012656]\n",
      " [0.02888099 0.97111905]\n",
      " [0.24152839 0.7584716 ]\n",
      " [0.0266814  0.97331864]\n",
      " [0.1718591  0.8281409 ]\n",
      " [0.05867323 0.94132674]\n",
      " [0.3071856  0.6928144 ]\n",
      " [0.08758004 0.91242003]\n",
      " [0.3041677  0.6958323 ]\n",
      " [0.27333346 0.7266665 ]\n",
      " [0.21878162 0.78121847]\n",
      " [0.08933173 0.91066825]\n",
      " [0.75608355 0.24391639]\n",
      " [0.04945453 0.95054543]\n",
      " [0.3338737  0.66612625]\n",
      " [0.8443455  0.15565453]\n",
      " [0.09736715 0.9026328 ]\n",
      " [0.113801   0.886199  ]\n",
      " [0.11377222 0.8862278 ]\n",
      " [0.14506619 0.8549338 ]\n",
      " [0.16078629 0.83921367]\n",
      " [0.8993525  0.10064746]\n",
      " [0.2771115  0.7228885 ]\n",
      " [0.7036585  0.29634148]\n",
      " [0.47044083 0.5295592 ]\n",
      " [0.06177972 0.9382203 ]\n",
      " [0.28207234 0.71792763]\n",
      " [0.20867693 0.791323  ]\n",
      " [0.57713383 0.42286617]\n",
      " [0.49264765 0.50735235]\n",
      " [0.23115684 0.7688432 ]\n",
      " [0.5584356  0.44156438]\n",
      " [0.12784943 0.8721506 ]\n",
      " [0.21615173 0.7838483 ]\n",
      " [0.02209822 0.9779018 ]\n",
      " [0.6589514  0.34104857]\n",
      " [0.0571855  0.94281447]\n",
      " [0.5904259  0.40957418]\n",
      " [0.61005026 0.38994974]\n",
      " [0.18646367 0.8135363 ]\n",
      " [0.7520681  0.24793193]\n",
      " [0.6126926  0.3873074 ]\n",
      " [0.729504   0.270496  ]\n",
      " [0.17215711 0.8278429 ]\n",
      " [0.02759343 0.97240657]\n",
      " [0.65608734 0.34391266]\n",
      " [0.29312024 0.7068798 ]\n",
      " [0.19373427 0.8062657 ]\n",
      " [0.11270106 0.887299  ]\n",
      " [0.08729796 0.912702  ]\n",
      " [0.1994939  0.80050606]\n",
      " [0.86191547 0.13808449]\n",
      " [0.02483781 0.97516215]\n",
      " [0.24041335 0.7595867 ]\n",
      " [0.0147053  0.9852947 ]\n",
      " [0.07881624 0.92118376]\n",
      " [0.08377169 0.9162283 ]\n",
      " [0.788855   0.21114492]\n",
      " [0.62434274 0.3756572 ]\n",
      " [0.05329333 0.9467067 ]\n",
      " [0.02856166 0.97143835]\n",
      " [0.02625716 0.9737429 ]\n",
      " [0.10584411 0.8941559 ]\n",
      " [0.7592559  0.24074417]\n",
      " [0.6633446  0.3366554 ]\n",
      " [0.1276254  0.87237453]\n",
      " [0.8500177  0.14998229]\n",
      " [0.01424108 0.9857589 ]\n",
      " [0.07585289 0.9241471 ]\n",
      " [0.09922051 0.9007795 ]\n",
      " [0.09031486 0.90968513]\n",
      " [0.22282211 0.7771779 ]\n",
      " [0.50210714 0.4978928 ]\n",
      " [0.03632082 0.96367925]\n",
      " [0.06633396 0.933666  ]\n",
      " [0.51972824 0.48027173]\n",
      " [0.04948272 0.9505173 ]\n",
      " [0.88307226 0.11692772]\n",
      " [0.07335861 0.92664135]\n",
      " [0.87192    0.12808001]\n",
      " [0.0901247  0.9098753 ]\n",
      " [0.02470388 0.97529614]\n",
      " [0.0286999  0.97130007]\n",
      " [0.03326167 0.96673834]\n",
      " [0.03290429 0.9670958 ]\n",
      " [0.05986076 0.9401393 ]\n",
      " [0.39571416 0.60428584]\n",
      " [0.01805708 0.98194295]\n",
      " [0.43924546 0.56075454]\n",
      " [0.06605113 0.9339488 ]\n",
      " [0.5383453  0.46165475]\n",
      " [0.6603227  0.3396773 ]\n",
      " [0.6088941  0.3911059 ]\n",
      " [0.09480876 0.90519124]\n",
      " [0.02493419 0.97506577]\n",
      " [0.9381713  0.06182867]\n",
      " [0.02893058 0.9710694 ]\n",
      " [0.15248075 0.8475192 ]\n",
      " [0.45202246 0.54797757]\n",
      " [0.03142119 0.96857876]\n",
      " [0.04270533 0.9572947 ]\n",
      " [0.08265398 0.917346  ]\n",
      " [0.649433   0.35056695]\n",
      " [0.00715594 0.99284405]\n",
      " [0.07152905 0.92847097]\n",
      " [0.4332683  0.56673175]\n",
      " [0.3817675  0.61823255]\n",
      " [0.48320237 0.51679766]\n",
      " [0.37776303 0.62223697]\n",
      " [0.56093484 0.43906513]\n",
      " [0.35629848 0.6437015 ]\n",
      " [0.13515648 0.8648435 ]\n",
      " [0.10807046 0.89192957]\n",
      " [0.02514516 0.9748548 ]\n",
      " [0.09223404 0.907766  ]\n",
      " [0.5046846  0.4953154 ]\n",
      " [0.16967043 0.8303296 ]\n",
      " [0.09241969 0.9075803 ]\n",
      " [0.82204986 0.17795011]\n",
      " [0.11723891 0.8827611 ]\n",
      " [0.39256316 0.60743684]\n",
      " [0.5601142  0.4398858 ]\n",
      " [0.19175972 0.8082403 ]\n",
      " [0.75175166 0.24824832]\n",
      " [0.12053636 0.8794636 ]\n",
      " [0.05220357 0.94779646]\n",
      " [0.04982913 0.9501708 ]\n",
      " [0.49342144 0.5065785 ]\n",
      " [0.42440403 0.575596  ]\n",
      " [0.38735765 0.6126423 ]\n",
      " [0.13325565 0.86674434]\n",
      " [0.40086123 0.5991388 ]\n",
      " [0.03963668 0.96036327]\n",
      " [0.46348184 0.53651816]\n",
      " [0.6724605  0.32753944]\n",
      " [0.5381488  0.46185112]\n",
      " [0.27347666 0.7265233 ]\n",
      " [0.19486487 0.80513513]\n",
      " [0.87099844 0.1290015 ]\n",
      " [0.04928929 0.95071065]\n",
      " [0.22712684 0.7728732 ]\n",
      " [0.04660466 0.9533953 ]\n",
      " [0.22246446 0.77753556]\n",
      " [0.6766137  0.3233863 ]\n",
      " [0.42652377 0.57347625]\n",
      " [0.12414102 0.875859  ]\n",
      " [0.2978999  0.7021001 ]\n",
      " [0.3133068  0.6866932 ]\n",
      " [0.55277884 0.44722113]\n",
      " [0.14448754 0.8555124 ]\n",
      " [0.30173075 0.69826925]\n",
      " [0.45798522 0.5420147 ]\n",
      " [0.36750665 0.6324934 ]\n",
      " [0.09944736 0.90055263]\n",
      " [0.45078707 0.549213  ]\n",
      " [0.07196676 0.9280333 ]\n",
      " [0.6547611  0.34523892]\n",
      " [0.02229471 0.9777053 ]\n",
      " [0.46413106 0.53586894]]\n"
     ]
    }
   ],
   "source": [
    "'''This are probability distritutions. A tensor that need to be unrooled'''\n",
    "print(predictor)"
   ]
  },
  {
   "cell_type": "code",
   "execution_count": 97,
   "metadata": {},
   "outputs": [
    {
     "name": "stdout",
     "output_type": "stream",
     "text": [
      "[1, 1, 1, 1, 0, 1, 1, 0, 0, 1, 1, 1, 1, 0, 1, 1, 1, 1, 0, 0, 1, 1, 0, 1, 0, 0, 1, 1, 1, 1, 1, 1, 1, 1, 1, 1, 0, 1, 1, 0, 1, 1, 1, 1, 0, 0, 1, 1, 0, 1, 0, 1, 1, 1, 1, 1, 1, 1, 0, 1, 1, 1, 0, 1, 1, 1, 1, 0, 1, 1, 1, 1, 0, 1, 1, 1, 1, 1, 1, 1, 1, 1, 1, 1, 1, 1, 1, 1, 1, 1, 1, 1, 1, 0, 1, 1, 0, 1, 1, 1, 1, 1, 0, 1, 0, 1, 1, 1, 1, 0, 1, 1, 0, 1, 1, 1, 0, 1, 0, 0, 1, 0, 0, 0, 1, 1, 0, 1, 1, 1, 1, 1, 0, 1, 1, 1, 1, 1, 0, 0, 1, 1, 1, 1, 0, 0, 1, 0, 1, 1, 1, 1, 1, 0, 1, 1, 0, 1, 0, 1, 0, 1, 1, 1, 1, 1, 1, 1, 1, 1, 1, 0, 0, 0, 1, 1, 0, 1, 1, 1, 1, 1, 1, 0, 1, 1, 1, 1, 1, 1, 0, 1, 1, 1, 1, 1, 0, 1, 1, 0, 1, 1, 0, 1, 0, 1, 1, 1, 1, 1, 1, 1, 1, 1, 1, 0, 0, 1, 1, 0, 1, 1, 1, 1, 0, 1, 1, 1, 1, 0, 1, 1, 1, 1, 1, 1, 1, 0, 1, 1]\n"
     ]
    },
    {
     "ename": "ValueError",
     "evalue": "The truth value of a DataFrame is ambiguous. Use a.empty, a.bool(), a.item(), a.any() or a.all().",
     "output_type": "error",
     "traceback": [
      "\u001b[0;31m---------------------------------------------------------------------------\u001b[0m",
      "\u001b[0;31mValueError\u001b[0m                                Traceback (most recent call last)",
      "\u001b[0;32m<ipython-input-97-a45b1fa0344f>\u001b[0m in \u001b[0;36m<module>\u001b[0;34m\u001b[0m\n\u001b[1;32m     15\u001b[0m \u001b[0;34m\u001b[0m\u001b[0m\n\u001b[1;32m     16\u001b[0m \u001b[0;32mfor\u001b[0m \u001b[0mval\u001b[0m \u001b[0;32min\u001b[0m \u001b[0mrange\u001b[0m\u001b[0;34m(\u001b[0m\u001b[0;36m24\u001b[0m\u001b[0;34m)\u001b[0m\u001b[0;34m:\u001b[0m\u001b[0;34m\u001b[0m\u001b[0;34m\u001b[0m\u001b[0m\n\u001b[0;32m---> 17\u001b[0;31m     \u001b[0;32mif\u001b[0m \u001b[0mpredictions_df\u001b[0m\u001b[0;34m.\u001b[0m\u001b[0mloc\u001b[0m\u001b[0;34m[\u001b[0m\u001b[0mpredictions_df\u001b[0m\u001b[0;34m[\u001b[0m\u001b[0;36m0\u001b[0m\u001b[0;34m]\u001b[0m \u001b[0;34m==\u001b[0m \u001b[0mpredictions_df\u001b[0m\u001b[0;34m[\u001b[0m\u001b[0;34m'test'\u001b[0m\u001b[0;34m]\u001b[0m\u001b[0;34m]\u001b[0m\u001b[0;34m:\u001b[0m\u001b[0;34m\u001b[0m\u001b[0;34m\u001b[0m\u001b[0m\n\u001b[0m\u001b[1;32m     18\u001b[0m         \u001b[0mcorrect\u001b[0m \u001b[0;34m+=\u001b[0m \u001b[0;36m1\u001b[0m\u001b[0;34m\u001b[0m\u001b[0;34m\u001b[0m\u001b[0m\n\u001b[1;32m     19\u001b[0m     \u001b[0;32melse\u001b[0m\u001b[0;34m:\u001b[0m\u001b[0;34m\u001b[0m\u001b[0;34m\u001b[0m\u001b[0m\n",
      "\u001b[0;32m~/miniconda3/envs/lab_env/lib/python3.7/site-packages/pandas/core/generic.py\u001b[0m in \u001b[0;36m__nonzero__\u001b[0;34m(self)\u001b[0m\n\u001b[1;32m   1476\u001b[0m         raise ValueError(\"The truth value of a {0} is ambiguous. \"\n\u001b[1;32m   1477\u001b[0m                          \u001b[0;34m\"Use a.empty, a.bool(), a.item(), a.any() or a.all().\"\u001b[0m\u001b[0;34m\u001b[0m\u001b[0;34m\u001b[0m\u001b[0m\n\u001b[0;32m-> 1478\u001b[0;31m                          .format(self.__class__.__name__))\n\u001b[0m\u001b[1;32m   1479\u001b[0m \u001b[0;34m\u001b[0m\u001b[0m\n\u001b[1;32m   1480\u001b[0m     \u001b[0m__bool__\u001b[0m \u001b[0;34m=\u001b[0m \u001b[0m__nonzero__\u001b[0m\u001b[0;34m\u001b[0m\u001b[0;34m\u001b[0m\u001b[0m\n",
      "\u001b[0;31mValueError\u001b[0m: The truth value of a DataFrame is ambiguous. Use a.empty, a.bool(), a.item(), a.any() or a.all()."
     ]
    }
   ],
   "source": [
    "'''\n",
    "1 means that player X will win,\n",
    "0 means that player Y will win or result will be a draw.\n",
    "'''\n",
    "\n",
    "#Prediction 25 results\n",
    "predictions = [np.argmax(predictor[i]) for i in range(y_test.shape[0])]\n",
    "print(predictions)\n",
    "\n",
    "predictions_df = pd.DataFrame(predictions)\n",
    "predictions_df['test'] = y_test.astype(int)\n",
    "\n",
    "correct = 0\n",
    "fail = 0\n",
    "\n",
    "for val in range(24):   \n",
    "    if predictions_df.loc[predictions_df[0] == predictions_df['test']]:\n",
    "        correct += 1\n",
    "    else:\n",
    "        fail += 1\n",
    "        \n",
    "print(f'In 25 attemps, the model was spon on {correct} times and failed {fail} times')"
   ]
  },
  {
   "cell_type": "markdown",
   "metadata": {},
   "source": [
    "## Step 4: Improve Your Model\n",
    "Did your model achieve low loss (<0.1) and high accuracy (>0.95)? If not, try to improve your model.\n",
    "\n",
    "But how? There are so many things you can play with in Tensorflow and in the next challenge you'll learn about these things. But in this challenge, let's just do a few things to see if they will help.\n",
    "\n",
    "Add more layers to your model. If the data are complex you need more layers. But don't use more layers than you need. If adding more layers does not improve the model performance you don't need additional layers.\n",
    "Adjust the learning rate when you compile the model. This means you will create a custom tf.keras.optimizers.Adam instance where you specify the learning rate you want. Then pass the instance to model.compile as the optimizer.\n",
    "tf.keras.optimizers.Adam reference.\n",
    "Don't worry if you don't understand what the learning rate does. You'll learn about it in the next challenge.\n",
    "Adjust the number of epochs when you fit the training data to the model. Your model performance continues to improve as you train more epochs. But eventually it will reach the ceiling and the performance will stay the same."
   ]
  },
  {
   "cell_type": "code",
   "execution_count": 162,
   "metadata": {},
   "outputs": [],
   "source": [
    "model = tf.keras.Sequential([\n",
    "    tf.keras.layers.Dense(128, activation='relu'),\n",
    "    tf.keras.layers.Dense(128, activation='relu'),\n",
    "    tf.keras.layers.Flatten(),\n",
    "    tf.keras.layers.Dense(128, activation='relu'),\n",
    "    tf.keras.layers.Dense(128, activation='relu'),\n",
    "    tf.keras.layers.Dense(2, activation='softmax')\n",
    "])"
   ]
  },
  {
   "cell_type": "code",
   "execution_count": 163,
   "metadata": {},
   "outputs": [],
   "source": [
    "model.compile(optimizer=tf.keras.optimizers.Adam(learning_rate = 0.0008), \n",
    "              loss=tf.keras.losses.SparseCategoricalCrossentropy(from_logits=True), \n",
    "              metrics=['accuracy'])\n",
    "#              validation_data=(x_test, y_test)"
   ]
  },
  {
   "cell_type": "code",
   "execution_count": 164,
   "metadata": {},
   "outputs": [
    {
     "name": "stdout",
     "output_type": "stream",
     "text": [
      "Train on 718 samples, validate on 240 samples\n",
      "Epoch 1/20\n",
      "718/718 [==============================] - 0s 448us/sample - loss: 0.6603 - accuracy: 0.6212 - val_loss: 0.6092 - val_accuracy: 0.6875\n",
      "Epoch 2/20\n",
      "718/718 [==============================] - 0s 40us/sample - loss: 0.6162 - accuracy: 0.6797 - val_loss: 0.5732 - val_accuracy: 0.7292\n",
      "Epoch 3/20\n",
      "718/718 [==============================] - 0s 40us/sample - loss: 0.5665 - accuracy: 0.7368 - val_loss: 0.5377 - val_accuracy: 0.7750\n",
      "Epoch 4/20\n",
      "718/718 [==============================] - 0s 43us/sample - loss: 0.5262 - accuracy: 0.7869 - val_loss: 0.5093 - val_accuracy: 0.7750\n",
      "Epoch 5/20\n",
      "718/718 [==============================] - 0s 38us/sample - loss: 0.4808 - accuracy: 0.8398 - val_loss: 0.4700 - val_accuracy: 0.8292\n",
      "Epoch 6/20\n",
      "718/718 [==============================] - 0s 38us/sample - loss: 0.4327 - accuracy: 0.8955 - val_loss: 0.4190 - val_accuracy: 0.9083\n",
      "Epoch 7/20\n",
      "718/718 [==============================] - 0s 40us/sample - loss: 0.3851 - accuracy: 0.9429 - val_loss: 0.4059 - val_accuracy: 0.9333\n",
      "Epoch 8/20\n",
      "718/718 [==============================] - 0s 42us/sample - loss: 0.3547 - accuracy: 0.9735 - val_loss: 0.3687 - val_accuracy: 0.9583\n",
      "Epoch 9/20\n",
      "718/718 [==============================] - 0s 43us/sample - loss: 0.3347 - accuracy: 0.9861 - val_loss: 0.3525 - val_accuracy: 0.9792\n",
      "Epoch 10/20\n",
      "718/718 [==============================] - 0s 39us/sample - loss: 0.3250 - accuracy: 0.9944 - val_loss: 0.3453 - val_accuracy: 0.9708\n",
      "Epoch 11/20\n",
      "718/718 [==============================] - 0s 37us/sample - loss: 0.3218 - accuracy: 0.9944 - val_loss: 0.3479 - val_accuracy: 0.9708\n",
      "Epoch 12/20\n",
      "718/718 [==============================] - 0s 41us/sample - loss: 0.3218 - accuracy: 0.9958 - val_loss: 0.3464 - val_accuracy: 0.9667\n",
      "Epoch 13/20\n",
      "718/718 [==============================] - 0s 38us/sample - loss: 0.3174 - accuracy: 0.9986 - val_loss: 0.3410 - val_accuracy: 0.9792\n",
      "Epoch 14/20\n",
      "718/718 [==============================] - 0s 39us/sample - loss: 0.3152 - accuracy: 1.0000 - val_loss: 0.3387 - val_accuracy: 0.9750\n",
      "Epoch 15/20\n",
      "718/718 [==============================] - 0s 39us/sample - loss: 0.3149 - accuracy: 1.0000 - val_loss: 0.3357 - val_accuracy: 0.9750\n",
      "Epoch 16/20\n",
      "718/718 [==============================] - 0s 39us/sample - loss: 0.3143 - accuracy: 1.0000 - val_loss: 0.3288 - val_accuracy: 0.9917\n",
      "Epoch 17/20\n",
      "718/718 [==============================] - 0s 38us/sample - loss: 0.3139 - accuracy: 1.0000 - val_loss: 0.3305 - val_accuracy: 0.9792\n",
      "Epoch 18/20\n",
      "718/718 [==============================] - 0s 39us/sample - loss: 0.3137 - accuracy: 1.0000 - val_loss: 0.3271 - val_accuracy: 0.9958\n",
      "Epoch 19/20\n",
      "718/718 [==============================] - 0s 38us/sample - loss: 0.3136 - accuracy: 1.0000 - val_loss: 0.3278 - val_accuracy: 0.9958\n",
      "Epoch 20/20\n",
      "718/718 [==============================] - 0s 38us/sample - loss: 0.3136 - accuracy: 1.0000 - val_loss: 0.3284 - val_accuracy: 0.9875\n"
     ]
    }
   ],
   "source": [
    "history = model.fit(x_train, \n",
    "                    y_train, \n",
    "                    batch_size=50, \n",
    "                    epochs=20, \n",
    "                    validation_data=(x_test, y_test))"
   ]
  },
  {
   "cell_type": "markdown",
   "metadata": {},
   "source": [
    "**Which approach(es) did you find helpful to improve your model performance?**"
   ]
  },
  {
   "cell_type": "markdown",
   "metadata": {},
   "source": [
    "I found that there is a max number of epochs needed to get the perfect accuracy. But I can't get the loss smaller that 0.3, no matter what param I change"
   ]
  }
 ],
 "metadata": {
  "kernelspec": {
   "display_name": "Python [conda env:lab_env]",
   "language": "python",
   "name": "conda-env-lab_env-py"
  },
  "language_info": {
   "codemirror_mode": {
    "name": "ipython",
    "version": 3
   },
   "file_extension": ".py",
   "mimetype": "text/x-python",
   "name": "python",
   "nbconvert_exporter": "python",
   "pygments_lexer": "ipython3",
   "version": "3.7.3"
  }
 },
 "nbformat": 4,
 "nbformat_minor": 2
}
